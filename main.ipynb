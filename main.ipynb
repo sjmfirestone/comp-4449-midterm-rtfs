{
 "cells": [
  {
   "cell_type": "code",
   "execution_count": null,
   "metadata": {},
   "outputs": [],
   "source": [
    "import zipfile\n",
    "import os\n",
    "import pandas as pd\n",
    "import pickle\n",
    "import numpy as np\n",
    "import matplotlib.pyplot as plt\n",
    "\n",
    "%matplotlib inline"
   ]
  },
  {
   "attachments": {},
   "cell_type": "markdown",
   "metadata": {},
   "source": [
    "# Outline\n",
    "* [Download Data](#Download-Data)\n",
    "* [Data Exploration](#Data-Exploration)\n",
    "* [Data Preprocessing](#Data-Preprocessing)"
   ]
  },
  {
   "attachments": {},
   "cell_type": "markdown",
   "metadata": {},
   "source": [
    "## Download Data\n",
    "- Download data ffrom the repo\n",
    "- Unzip the data from dataroot folder (with dataroot as the folder default)\n",
    "- read in sign names from csv file"
   ]
  },
  {
   "cell_type": "code",
   "execution_count": null,
   "metadata": {},
   "outputs": [],
   "source": [
    "def unzip_traffic_signs(directory='dataroot/'):\n",
    "    \"\"\"\n",
    "    Unzips traffic sign files from a specified directory.\n",
    "\n",
    "    Args:\n",
    "        directory (str): The directory path where the traffic sign files are located. \n",
    "                         Defaults to 'dataroot/'.\n",
    "\n",
    "    Raises:\n",
    "        Exception: If an error occurs during the unzipping process, the exception is printed.\n",
    "\n",
    "    Returns:\n",
    "        None: The function does not return any value.\n",
    "    \"\"\"\n",
    "    try:\n",
    "        for file in os.listdir(directory):\n",
    "            print(file)\n",
    "            if file.endswith('.zip'):\n",
    "                print('Unzipping ' + file)\n",
    "                with zipfile.ZipFile(directory + file, 'r') as zip_ref:\n",
    "                    print('Extracting ' + file)\n",
    "                    zip_ref.extractall(directory)\n",
    "    except Exception as e:\n",
    "        print(e)"
   ]
  },
  {
   "cell_type": "code",
   "execution_count": null,
   "metadata": {},
   "outputs": [],
   "source": [
    "def download_traffic_signs(directory='dataroot/', unzip_data=False, data_zip_link=[\n",
    "    'https://raw.githubusercontent.com/emmanueliarussi/DataScienceCapstone/master/3_MidtermProjects/ProjectRTS/data/data_1.zip',\n",
    "    'https://raw.githubusercontent.com/emmanueliarussi/DataScienceCapstone/master/3_MidtermProjects/ProjectRTS/data/data_2.zip',\n",
    "    'https://raw.githubusercontent.com/emmanueliarussi/DataScienceCapstone/master/3_MidtermProjects/ProjectRTS/data/data_3.zip'\n",
    "]):\n",
    "    \"\"\"\n",
    "    Downloads traffic sign data from specified links and optionally unzips the data files.\n",
    "\n",
    "    Args:\n",
    "        directory (str): The directory path where the data files will be downloaded. \n",
    "                        Defaults to 'dataroot/'.\n",
    "        unzip_data (bool): Whether to unzip the downloaded data files or not. \n",
    "                        Defaults to False.\n",
    "        data_zip_link (list): A list of URLs pointing to the data zip files. \n",
    "                            Defaults to a list of three URLs.\n",
    "\n",
    "    Raises:\n",
    "        Exception: If an error occurs during the downloading or unzipping process, the exception is printed.\n",
    "\n",
    "    Returns:\n",
    "        None: The function does not return any value.\n",
    "    \"\"\"\n",
    "    try:\n",
    "        !mkdir $directory\n",
    "        try:\n",
    "            for link in data_zip_link:\n",
    "                !wget -P $directory $link\n",
    "                print(f\"Data file {link} downloaded\")\n",
    "            if unzip_data:\n",
    "                unzip_traffic_signs(directory)\n",
    "        except Exception as e:\n",
    "            print('Error downloading data')\n",
    "            print(e)\n",
    "    except Exception as e:\n",
    "        print('Error making directory')\n",
    "        print(e)    "
   ]
  },
  {
   "cell_type": "code",
   "execution_count": null,
   "metadata": {},
   "outputs": [],
   "source": [
    "def download_traffic_names(sign_name_url =\"https://raw.githubusercontent.com/emmanueliarussi/DataScienceCapstone/master/3_MidtermProjects/ProjectRTS/data/signnames.csv\"):\n",
    "    \"\"\"\n",
    "    Downloads traffic sign names from a specified URL.\n",
    "\n",
    "    Args:\n",
    "        sign_name_url (str): The URL pointing to the sign names file. \n",
    "                            Defaults to a URL pointing to a CSV file.\n",
    "\n",
    "    Raises:\n",
    "        Exception: If an error occurs during the downloading process, the exception is printed.\n",
    "\n",
    "    Returns:\n",
    "        None: The function does not return any value.\n",
    "    \"\"\"\n",
    "    try:\n",
    "        df = pd.read_csv(sign_name_url)\n",
    "        signnames = pd.Series(df.SignName.values,index=df.ClassId).to_dict()\n",
    "        return signnames    \n",
    "    except Exception as e:\n",
    "        print('Error downloading sign names')\n",
    "        print(e)"
   ]
  },
  {
   "cell_type": "code",
   "execution_count": null,
   "metadata": {},
   "outputs": [],
   "source": [
    "def load_traffic_images(directory='dataroot/'):\n",
    "    \"\"\"\n",
    "    Loads traffic sign images from a specified directory.\n",
    "\n",
    "    Args:\n",
    "        directory (str): The directory path where the traffic sign files are located.\n",
    "                        Defaults to 'dataroot/'.\n",
    "                        \n",
    "    Raises:\n",
    "        Exception: If an error occurs during the loading process, the exception is printed.\n",
    "\n",
    "    Returns:\n",
    "        list: A list of traffic sign images.    \n",
    "    \"\"\"\n",
    "    signimages = []\n",
    "    try:\n",
    "        for file in os.listdir(directory):\n",
    "            if file.endswith('.p'):\n",
    "                signimages.append(pickle.load(open(directory + file, 'rb')))\n",
    "        return signimages\n",
    "    except Exception as e:\n",
    "        print('Error loading images')\n",
    "        print(e)"
   ]
  },
  {
   "cell_type": "code",
   "execution_count": null,
   "metadata": {},
   "outputs": [],
   "source": [
    "train, valid, test = load_traffic_images(directory='tests/')"
   ]
  },
  {
   "attachments": {},
   "cell_type": "markdown",
   "metadata": {},
   "source": [
    "## Data Exploration\n",
    "- Look and sign image name keys\n",
    "- Get shape of training, validation and test data\n",
    "- Plot a sample of the images\n",
    "- Pixel intensity distribution\n",
    "- Plot a histogram of the number of images per class"
   ]
  },
  {
   "cell_type": "code",
   "execution_count": null,
   "metadata": {},
   "outputs": [],
   "source": []
  },
  {
   "attachments": {},
   "cell_type": "markdown",
   "metadata": {},
   "source": [
    "## Data Preprocessing\n",
    "- Convert to grayscale\n",
    "- Normalize the data\n",
    "- Shuffle the data"
   ]
  },
  {
   "cell_type": "code",
   "execution_count": null,
   "metadata": {},
   "outputs": [],
   "source": [
    "def normalize_images(image_dict):\n",
    "    \"\"\"\n",
    "    Normalizes traffic sign images.\n",
    "\n",
    "    Args:\n",
    "        image_dict (dict): A dictionary containing traffic sign images.\n",
    "\n",
    "    Returns:\n",
    "        dict: A dictionary containing normalized traffic sign images.\n",
    "    \"\"\"\n",
    "    features = image_dict['features']\n",
    "    normalized_features = (features - np.mean(features)) / np.std(features)\n",
    "\n",
    "    normalized_data_dict = image_dict.copy()\n",
    "    normalized_data_dict['features'] = normalized_features\n",
    "\n",
    "    return normalized_data_dict\n"
   ]
  },
  {
   "cell_type": "code",
   "execution_count": 78,
   "metadata": {},
   "outputs": [],
   "source": [
    "def grayscale_conversion(image_dict):\n",
    "    \"\"\"\n",
    "    Converts traffic sign images to grayscale.\n",
    "\n",
    "    Args:\n",
    "        image_dict (dict): A dictionary containing traffic sign images.\n",
    "\n",
    "    Returns:\n",
    "        dict: A dictionary containing grayscale traffic sign images.\n",
    "    \"\"\"\n",
    "    features = image_dict['features']\n",
    "    grayscale_features = np.sum(features/3, axis=3, keepdims=True)\n",
    "\n",
    "    grayscale_data_dict = image_dict.copy()\n",
    "    grayscale_data_dict['features'] = grayscale_features\n",
    "\n",
    "    return grayscale_data_dict"
   ]
  },
  {
   "cell_type": "code",
   "execution_count": 81,
   "metadata": {},
   "outputs": [],
   "source": [
    "normal_train = normalize_images(train)\n",
    "grayscale_train = grayscale_conversion(train)\n",
    "normal_gray_train = grayscale_conversion(normal_train)"
   ]
  },
  {
   "cell_type": "code",
   "execution_count": null,
   "metadata": {},
   "outputs": [],
   "source": [
    "def plot_image(image_dict, index):\n",
    "    \"\"\"\n",
    "    Plots a traffic sign image.\n",
    "\n",
    "    Args:\n",
    "        image_dict (dict): A dictionary containing traffic sign images.\n",
    "        index (int): The index of the image to plot.\n",
    "    \"\"\"\n",
    "    image = image_dict['features'][index]\n",
    "    plt.imshow(image)\n",
    "    plt.show()"
   ]
  },
  {
   "cell_type": "code",
   "execution_count": 82,
   "metadata": {},
   "outputs": [
    {
     "name": "stderr",
     "output_type": "stream",
     "text": [
      "Clipping input data to the valid range for imshow with RGB data ([0..1] for floats or [0..255] for integers).\n"
     ]
    },
    {
     "data": {
      "image/png": "[encoded data removed]",
      "text/plain": [
       "<Figure size 640x480 with 1 Axes>"
      ]
     },
     "metadata": {},
     "output_type": "display_data"
    },
    {
     "data": {
      "image/png": "[encoded data removed]",
      "text/plain": [
       "<Figure size 640x480 with 1 Axes>"
      ]
     },
     "metadata": {},
     "output_type": "display_data"
    },
    {
     "data": {
      "image/png": "[encoded data removed]",
      "text/plain": [
       "<Figure size 640x480 with 1 Axes>"
      ]
     },
     "metadata": {},
     "output_type": "display_data"
    },
    {
     "data": {
      "image/png": "[encoded data removed]",
      "text/plain": [
       "<Figure size 640x480 with 1 Axes>"
      ]
     },
     "metadata": {},
     "output_type": "display_data"
    }
   ],
   "source": [
    "plot_image(normal_train, 100)\n",
    "plot_image(train, 100)\n",
    "plot_image(grayscale_train, 100)\n",
    "plot_image(normal_gray_train, 100)"
   ]
  }
 ],
 "metadata": {
  "kernelspec": {
   "display_name": "tf-gpu",
   "language": "python",
   "name": "python3"
  },
  "language_info": {
   "codemirror_mode": {
    "name": "ipython",
    "version": 3
   },
   "file_extension": ".py",
   "mimetype": "text/x-python",
   "name": "python",
   "nbconvert_exporter": "python",
   "pygments_lexer": "ipython3",
   "version": "3.9.16"
  },
  "orig_nbformat": 4
 },
 "nbformat": 4,
 "nbformat_minor": 2
}
