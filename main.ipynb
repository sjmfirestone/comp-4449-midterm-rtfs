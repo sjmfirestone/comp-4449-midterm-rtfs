{
 "cells": [
  {
   "attachments": {},
   "cell_type": "markdown",
   "metadata": {},
   "source": [
    "COMP 4449: Capstone | Summer 2023\n",
    "\n",
    "Midterm Project: Recognizing Traffic Signs\n",
    "\n",
    "Sammantha Firestone"
   ]
  },
  {
   "attachments": {},
   "cell_type": "markdown",
   "metadata": {},
   "source": [
    "# Background\n",
    "Autonomous vehicles have revolutionized the transporation industry, leveraging advance technology to navigate roads and make independent decisions. An essential aspect of autonomous driving is accurately detecting and classifying traffic signs, which provide critical information for safe and efficient driving. By correctly identify ing traffic signs in real-life conditions, autonomous vehicles can comply with regulations and ensure the safety of passengers, other drivers, and pedestrians.\n",
    "\n",
    "# Research Question\n",
    "This project aims to develop a robust model capable of accurately identifying and classifying traffic signs in real-life images. By employing the deep learning technique of Convolutional Neural Networks (CNN), this project will explore the impact of various hyperparameters on the model's performance, and ultimately determine the optimal model for traffic sign recognition."
   ]
  },
  {
   "attachments": {},
   "cell_type": "markdown",
   "metadata": {},
   "source": [
    "# Outline\n",
    "* [Download Data](#Download-Data)\n",
    "* [Data Exploration](#Data-Exploration)\n",
    "* [Data Preprocessing](#Data-Preprocessing)"
   ]
  },
  {
   "attachments": {},
   "cell_type": "markdown",
   "metadata": {},
   "source": [
    "# Import Libraries\n",
    "Many libraries are used throughout this project, however the most essential to creating the CNN model are:\n",
    "* [TensorFlow](https://www.tensorflow.org/): an open-source machine learning library\n",
    "* [Keras](https://keras.io/): a high-level neural networks API"
   ]
  },
  {
   "cell_type": "code",
   "execution_count": null,
   "metadata": {},
   "outputs": [],
   "source": [
    "import zipfile\n",
    "import os\n",
    "os.environ['TF_CPP_MIN_LOG_LEVEL'] = '2'\n",
    "import timeit\n",
    "import random\n",
    "\n",
    "import pandas as pd\n",
    "import pickle\n",
    "import cv2\n",
    "import skimage.morphology as morp\n",
    "from skimage.filters import rank\n",
    "import numpy as np\n",
    "import matplotlib.pyplot as plt\n",
    "from tensorflow.keras.preprocessing.image import img_to_array\n",
    "from tensorflow.keras.preprocessing.image import load_img\n",
    "from tensorflow.keras.models import Model\n",
    "\n",
    "from sklearn.pipeline import Pipeline\n",
    "from sklearn.preprocessing import FunctionTransformer\n",
    "from sklearn.metrics import confusion_matrix, classification_report\n",
    "import seaborn as sns\n",
    "import tensorflow as tf\n",
    "from tensorflow.keras.regularizers import L2\n",
    "from tensorflow import keras\n",
    "from tensorflow.keras import layers\n",
    "from keras.utils import plot_model\n",
    "\n",
    "# set random seed for all libraries for reproducible results\n",
    "random.seed(42)\n",
    "np.random.seed(42)\n",
    "tf.random.set_seed(42)\n",
    "\n",
    "# print versions of libraries\n",
    "print(\"Tensorflow version: \", tf.__version__)\n",
    "print(\"Keras version: \", keras.__version__)\n",
    "print(\"Pandas version: \", pd.__version__)\n",
    "print(\"Numpy version: \", np.__version__)\n",
    "print(\"OpenCV version: \", cv2.__version__)\n",
    "\n",
    "%matplotlib inline\n"
   ]
  },
  {
   "attachments": {},
   "cell_type": "markdown",
   "metadata": {},
   "source": [
    "# Download & Import Data\n",
    "To begin, the data must be downloaded from the [DataScienceCapstone](https://github.com/emmanueliarussi/DataScienceCapstone/tree/master/3_MidtermProjects/ProjectRTS/data) website. The data is stored in a compressed file, which must be extracted and saved to a local directory. The data is then imported into the notebook using the [Pandas](https://pandas.pydata.org/) library."
   ]
  },
  {
   "cell_type": "code",
   "execution_count": null,
   "metadata": {},
   "outputs": [],
   "source": [
    "def download_traffic_signs(directory='dataroot/', unzip_data=False, data_zip_link=[\n",
    "    'https://raw.githubusercontent.com/emmanueliarussi/DataScienceCapstone/master/3_MidtermProjects/ProjectRTS/data/data_1.zip',\n",
    "    'https://raw.githubusercontent.com/emmanueliarussi/DataScienceCapstone/master/3_MidtermProjects/ProjectRTS/data/data_2.zip',\n",
    "    'https://raw.githubusercontent.com/emmanueliarussi/DataScienceCapstone/master/3_MidtermProjects/ProjectRTS/data/data_3.zip'\n",
    "]):\n",
    "    \"\"\"\n",
    "    Downloads traffic sign data from specified links and optionally unzips the data files.\n",
    "\n",
    "    Args:\n",
    "        directory (str): The directory path where the data files will be downloaded. \n",
    "                        Defaults to 'dataroot/'.\n",
    "        unzip_data (bool): Whether to unzip the downloaded data files or not. \n",
    "                        Defaults to False.\n",
    "        data_zip_link (list): A list of URLs pointing to the data zip files. \n",
    "                            Defaults to a list of three URLs.\n",
    "\n",
    "    Raises:\n",
    "        Exception: If an error occurs during the downloading or unzipping process, the exception is printed.\n",
    "\n",
    "    Returns:\n",
    "        None: The function does not return any value.\n",
    "    \"\"\"\n",
    "    try:\n",
    "        !mkdir $directory\n",
    "        try:\n",
    "            for link in data_zip_link:\n",
    "                !wget -P $directory $link\n",
    "                print(f\"Data file {link} downloaded\")\n",
    "            if unzip_data:\n",
    "                unzip_traffic_signs(directory)\n",
    "        except Exception as e:\n",
    "            print('Error downloading data')\n",
    "            print(e)\n",
    "    except Exception as e:\n",
    "        print('Error making directory')\n",
    "        print(e)    "
   ]
  },
  {
   "cell_type": "code",
   "execution_count": null,
   "metadata": {},
   "outputs": [],
   "source": [
    "def unzip_traffic_signs(directory='dataroot/'):\n",
    "    \"\"\"\n",
    "    Unzips traffic sign files from a specified directory.\n",
    "\n",
    "    Args:\n",
    "        directory (str): The directory path where the traffic sign files are located. \n",
    "                         Defaults to 'dataroot/'.\n",
    "\n",
    "    Raises:\n",
    "        Exception: If an error occurs during the unzipping process, the exception is printed.\n",
    "\n",
    "    Returns:\n",
    "        None: The function does not return any value.\n",
    "    \"\"\"\n",
    "    try:\n",
    "        for file in os.listdir(directory):\n",
    "            print(file)\n",
    "            if file.endswith('.zip'):\n",
    "                print('Unzipping ' + file)\n",
    "                with zipfile.ZipFile(directory + file, 'r') as zip_ref:\n",
    "                    print('Extracting ' + file)\n",
    "                    zip_ref.extractall(directory)\n",
    "    except Exception as e:\n",
    "        print(e)"
   ]
  },
  {
   "cell_type": "code",
   "execution_count": null,
   "metadata": {},
   "outputs": [],
   "source": [
    "def download_traffic_names(sign_name_url =\"https://raw.githubusercontent.com/emmanueliarussi/DataScienceCapstone/master/3_MidtermProjects/ProjectRTS/data/signnames.csv\"):\n",
    "    \"\"\"\n",
    "    Downloads traffic sign names from a specified URL.\n",
    "\n",
    "    Args:\n",
    "        sign_name_url (str): The URL pointing to the sign names file. \n",
    "                            Defaults to a URL pointing to a CSV file.\n",
    "\n",
    "    Raises:\n",
    "        Exception: If an error occurs during the downloading process, the exception is printed.\n",
    "\n",
    "    Returns:\n",
    "        None: The function does not return any value.\n",
    "    \"\"\"\n",
    "    try:\n",
    "        df = pd.read_csv(sign_name_url)\n",
    "        signnames = pd.Series(df.SignName.values,index=df.ClassId).to_dict()\n",
    "        return signnames    \n",
    "    except Exception as e:\n",
    "        print('Error downloading sign names')\n",
    "        print(e)"
   ]
  },
  {
   "cell_type": "code",
   "execution_count": null,
   "metadata": {},
   "outputs": [],
   "source": [
    "def load_traffic_images(directory='dataroot/'):\n",
    "    \"\"\"\n",
    "    Loads traffic sign images from a specified directory.\n",
    "\n",
    "    Args:\n",
    "        directory (str): The directory path where the traffic sign files are located.\n",
    "                        Defaults to 'dataroot/'.\n",
    "                        \n",
    "    Raises:\n",
    "        Exception: If an error occurs during the loading process, the exception is printed.\n",
    "\n",
    "    Returns:\n",
    "        list: A list of traffic sign images.    \n",
    "    \"\"\"\n",
    "    signimages = []\n",
    "    try:\n",
    "        for file in os.listdir(directory):\n",
    "            if file.endswith('.p'):\n",
    "                signimages.append(pickle.load(open(directory + file, 'rb')))\n",
    "        return signimages\n",
    "    except Exception as e:\n",
    "        print('Error loading images')\n",
    "        print(e)"
   ]
  },
  {
   "cell_type": "code",
   "execution_count": null,
   "metadata": {},
   "outputs": [],
   "source": [
    "train, valid, test = load_traffic_images(directory='dataroot/')\n",
    "signnames = download_traffic_names()"
   ]
  },
  {
   "attachments": {},
   "cell_type": "markdown",
   "metadata": {},
   "source": [
    "# Data Exploration"
   ]
  },
  {
   "attachments": {},
   "cell_type": "markdown",
   "metadata": {},
   "source": [
    "## Data Summary\n",
    "First, let's take a look at the `signnames` data. This data has been imported as a dictionary.\n",
    "\n",
    "The keys are the class IDs, and the values are the corresponding traffic sign names.\n",
    "\n",
    "There are 43 unique traffic signs in the dataset."
   ]
  },
  {
   "cell_type": "code",
   "execution_count": null,
   "metadata": {},
   "outputs": [],
   "source": [
    "print(\"Sign Names: \", signnames.values())\n",
    "print(\"Sign Names Length: \", len(signnames))"
   ]
  },
  {
   "attachments": {},
   "cell_type": "markdown",
   "metadata": {},
   "source": [
    "Next, let's take a look at our image data. The data has been imported as a dictionary."
   ]
  },
  {
   "cell_type": "code",
   "execution_count": null,
   "metadata": {},
   "outputs": [],
   "source": [
    "print(\"Train - Key Values: \", train.keys())\n",
    "print(\"Valid - Key Values: \", valid.keys())\n",
    "print(\"Test - Key Values: \", test.keys())"
   ]
  },
  {
   "attachments": {},
   "cell_type": "markdown",
   "metadata": {},
   "source": [
    "The dict_keys are `coords`, `labels`, `features`, and `sizes`.\n",
    "* `sizes`: This is a tuple (width, height) containing the original width and height of each image.\n",
    "* `coords`: This is the coordinates of a bounding box around the sign in the image.\n",
    "* `features`: This is a 4D array containing the actual image data. Images are represented as arrays of pixel values. This key is what we will be using for image analysis and model training. (num examples, width, height, channels (RGB))) \n",
    "* `labels`: This contains the labels (one-hot-encoded) associated with each image. This is what we will be using for model training and evaluation."
   ]
  },
  {
   "attachments": {},
   "cell_type": "markdown",
   "metadata": {},
   "source": [
    "Now, let's extract our features and labels from the data."
   ]
  },
  {
   "cell_type": "code",
   "execution_count": null,
   "metadata": {},
   "outputs": [],
   "source": [
    "train_images, train_labels = train['features'], train['labels']\n",
    "valid_images, valid_labels = valid['features'], valid['labels']\n",
    "test_images, test_labels = test['features'], test['labels']"
   ]
  },
  {
   "attachments": {},
   "cell_type": "markdown",
   "metadata": {},
   "source": [
    "Let's take a look at the shape of our `features` and `labels`. (*NOTE*: The `feature` and `label` shapes will be roughly the same for train / val / test data. The only difference is the number of examples.)"
   ]
  },
  {
   "cell_type": "code",
   "execution_count": null,
   "metadata": {},
   "outputs": [],
   "source": [
    "print(\"Shape of features: \", train['features'].shape)\n",
    "print(\"Shape of labels: \", train['labels'].shape)"
   ]
  },
  {
   "attachments": {},
   "cell_type": "markdown",
   "metadata": {},
   "source": [
    "From this output, we can see we have 12,630 images, with width and height of 32 pixels, and 3 channels (RGB).\n",
    "\n",
    "Let's take a look at the comparison number of images for train, validation, and test data."
   ]
  },
  {
   "cell_type": "code",
   "execution_count": null,
   "metadata": {},
   "outputs": [],
   "source": [
    "print(\"Number of training examples: \", train_images.shape[0])\n",
    "print(\"Number of validation examples: \", valid_images.shape[0])\n",
    "print(\"Number of testing examples: \", test_images.shape[0])"
   ]
  },
  {
   "attachments": {},
   "cell_type": "markdown",
   "metadata": {},
   "source": [
    "For clarity, we can just pull the shape of our images, and see that there are 43 classes of traffic signs."
   ]
  },
  {
   "cell_type": "code",
   "execution_count": null,
   "metadata": {},
   "outputs": [],
   "source": [
    "print(\"Image data shape: \", train_images[0].shape)\n",
    "print(\"Number of classes: \", len(np.unique(train_labels)))"
   ]
  },
  {
   "attachments": {},
   "cell_type": "markdown",
   "metadata": {},
   "source": [
    "### Plotting Images\n",
    "Let's now take a look at what some of the images look like for our training / validation / test data."
   ]
  },
  {
   "cell_type": "code",
   "execution_count": null,
   "metadata": {},
   "outputs": [],
   "source": [
    "def plot_image(images, labels, signnames, index, cmap=None):\n",
    "    \"\"\"\n",
    "    Plots a traffic sign image.\n",
    "\n",
    "    Args:\n",
    "        image_dict (dict): A dictionary containing traffic sign images.\n",
    "        index (int): The index of the image to plot.\n",
    "    \"\"\"\n",
    "    image = images[index]\n",
    "    plt.imshow(image, cmap=cmap)\n",
    "    plt.title(f'{labels[index]} = {signnames[labels[index]]}')\n",
    "    plt.show()"
   ]
  },
  {
   "cell_type": "code",
   "execution_count": null,
   "metadata": {},
   "outputs": [],
   "source": [
    "plot_image(train_images, train_labels, signnames, 123)\n",
    "plot_image(valid_images, valid_labels, signnames, 123)\n",
    "plot_image(test_images, test_labels, signnames, 123)"
   ]
  },
  {
   "attachments": {},
   "cell_type": "markdown",
   "metadata": {},
   "source": [
    "We can see that each image is indeed 32x32 pixels, and is in color (RGB).\n",
    "\n",
    "### Plotting All Classes of Images\n",
    "\n",
    "Now, let's get an idea of what the images look like for each class."
   ]
  },
  {
   "cell_type": "code",
   "execution_count": null,
   "metadata": {},
   "outputs": [],
   "source": [
    "def plot_all_signs(images, labels, signnames, cmap=None):\n",
    "    \"\"\"\n",
    "    Plots examples of all traffic sign types.\n",
    "\n",
    "    Args:\n",
    "        images (numpy.ndarray): Array of traffic sign images.\n",
    "        labels (numpy.ndarray): Array of corresponding traffic sign labels.\n",
    "        signnames (dict): Dictionary mapping class IDs to sign names.\n",
    "        cmap (str or None): Optional. The colormap to be used for image visualization.\n",
    "                            Defaults to None.\n",
    "\n",
    "    Returns:\n",
    "        None: The function displays the plot but does not return any value.\n",
    "    \"\"\"\n",
    "    \n",
    "    unique_labels = np.unique(labels)\n",
    "    num_labels = len(unique_labels)\n",
    "    num_cols = 4\n",
    "    num_rows = (num_labels - 1) // num_cols + 1\n",
    "\n",
    "    fig = plt.figure(figsize=(20, 16))\n",
    "\n",
    "    for i, label in enumerate(unique_labels, 1):\n",
    "        label_images = images[labels == label]\n",
    "        random_image = label_images[0] if len(label_images) > 0 else None\n",
    "        ax = fig.add_subplot(num_rows, num_cols, i)\n",
    "        ax.imshow(random_image, cmap=cmap)\n",
    "        ax.set_title(f'{label} = {signnames[label]}')\n",
    "        ax.axis('off')\n",
    "\n",
    "    plt.tight_layout()\n",
    "    plt.show()"
   ]
  },
  {
   "cell_type": "code",
   "execution_count": null,
   "metadata": {},
   "outputs": [],
   "source": [
    "plot_all_signs(train_images, train_labels, signnames)"
   ]
  },
  {
   "attachments": {},
   "cell_type": "markdown",
   "metadata": {},
   "source": [
    "As you can see in the output image, not all the signs are taking up the same amount of space in the image. Some signs are larger than others, and some are rotated. Not only that but some signs are indiscernible as the image is too dark, or noisy.\n",
    "\n",
    "Some notable examples:\n",
    "* `20 - Dangerous curve to the right`: The sign is rotated, and is not taking up the entire image.\n",
    "* `3 - Speed limit (60km/h)`: The sign is dark, and there is an obstruction in the front of it.\n",
    "* `19 - Dangerous curve to the left`: The sign is almost completely dark, and indiscernible to the human eye.\n",
    "\n",
    "These are just a few examples of the types of images we will be working with, as real-life images are not always perfect.\n",
    "\n",
    "### Plotting Pixel Intensity Distribution by Class\n",
    "\n",
    "To get a better understanding of these images, let's take a look at the pixel intensity distribution for each class."
   ]
  },
  {
   "cell_type": "code",
   "execution_count": null,
   "metadata": {},
   "outputs": [],
   "source": [
    "def plot_pixel_distribution(images, labels, signnames, selected_labels=None):\n",
    "    \"\"\"\n",
    "    Plots the pixel intensity distribution and box and whisker plot for specified traffic sign class labels.\n",
    "\n",
    "    Args:\n",
    "        images (numpy.ndarray): Array of traffic sign images.\n",
    "        labels (numpy.ndarray): Array of corresponding labels for the traffic sign images.\n",
    "        signnames (dict): Dictionary mapping class labels to sign names.\n",
    "        selected_labels (list or None): List of class labels to plot. If None, all unique labels are plotted.\n",
    "                                        Defaults to None.\n",
    "\n",
    "    Returns:\n",
    "        None: The function does not return any value. It displays the plot instead.\n",
    "    \"\"\"\n",
    "    unique_labels = np.unique(labels)\n",
    "\n",
    "    if selected_labels is None:\n",
    "        selected_labels = unique_labels\n",
    "\n",
    "    for label in selected_labels:\n",
    "        if label not in unique_labels:\n",
    "            continue\n",
    "\n",
    "        label_indices = np.where(labels == label)[0]\n",
    "        label_images = images[label_indices]\n",
    "\n",
    "        fig, axes = plt.subplots(1, 2, figsize=(10, 4))\n",
    "\n",
    "        # Plot pixel distribution\n",
    "        pixel_values = label_images.flatten()\n",
    "        axes[0].hist(pixel_values, bins=256, color='gray', alpha=0.7)\n",
    "        axes[0].set_title(f\"Pixel Distribution - {signnames[label]}\")\n",
    "        axes[0].set_xlabel('Pixel Intensity')\n",
    "        axes[0].set_ylabel('Frequency')\n",
    "\n",
    "        # Plot box and whisker plot\n",
    "        axes[1].boxplot(pixel_values)\n",
    "        axes[1].set_title(f\"Box and Whisker Plot - {signnames[label]}\")\n",
    "        axes[1].set_ylabel('Pixel Intensity')\n",
    "\n",
    "        plt.tight_layout()\n",
    "        plt.show()\n"
   ]
  },
  {
   "attachments": {},
   "cell_type": "markdown",
   "metadata": {},
   "source": [
    "Let's take a look of the pixel intensity distribution for the classes we noted above to see how these images compare to the rest of the dataset."
   ]
  },
  {
   "cell_type": "code",
   "execution_count": null,
   "metadata": {},
   "outputs": [],
   "source": [
    "plot_pixel_distribution(train_images, train_labels, signnames, selected_labels=[20, 3, 19, 34])"
   ]
  },
  {
   "attachments": {},
   "cell_type": "markdown",
   "metadata": {},
   "source": [
    "The pixel intensity distribution reveals distinct characteristics for different traffic sign classes, indicating variations in brightness levels. Wide ranges of pixel intensities suggest better visibility and contrast, while narrow ranges of pixel intensities suggest poor visibility and contrast.\n",
    "\n",
    "It appears the images belonging to `19 - Dangerous Curve to the Left` have the lowest pixel intensity distribution, indicating poor visibility and contrast. This is consistent with our observation that the sample image is almost completely dark, and indiscernible to the human eye. Class `34 - Turn Left Ahead` has a much better pixel intensity distribution, indicating better visibility and contrast. This is consistent with our observation that the sample image is bright and clear.\n",
    "\n",
    "Obviously sample images cannot be representative of the entire dataset though, but it does give us a good idea of what we are working with.\n",
    "\n",
    "### Plotting Number of Images per Class\n",
    "\n",
    "Now let's take a look at the distribution of the number of images per class."
   ]
  },
  {
   "cell_type": "code",
   "execution_count": null,
   "metadata": {},
   "outputs": [],
   "source": [
    "def plot_label_counts(labels, signnames, title=\"\"):\n",
    "\n",
    "    unique_labels, label_counts = np.unique(labels, return_counts=True)\n",
    "    sorted_indices = np.argsort(label_counts)[::-1]  # Sort indices in descending order based on count\n",
    "\n",
    "    sorted_labels = unique_labels[sorted_indices]\n",
    "    sorted_counts = label_counts[sorted_indices]\n",
    "\n",
    "    fig = plt.figure(figsize=(15, 5))\n",
    "    plt.bar(range(len(sorted_labels)), sorted_counts)\n",
    "    plt.xticks(range(len(sorted_labels)), [signnames[i] for i in sorted_labels], rotation='vertical')\n",
    "    plt.title(f\"Label Counts of {title} Data\")\n",
    "    plt.show()"
   ]
  },
  {
   "cell_type": "code",
   "execution_count": null,
   "metadata": {},
   "outputs": [],
   "source": [
    "plot_label_counts(train_labels, signnames, \"Training\")\n",
    "plot_label_counts(valid_labels, signnames, \"Validation\")\n",
    "plot_label_counts(test_labels, signnames, \"Testing\")"
   ]
  },
  {
   "attachments": {},
   "cell_type": "markdown",
   "metadata": {},
   "source": [
    "We can see that the number of images per class varies greatly in all three of our datasets. This is important to note, as it will impact our model training and evaluation."
   ]
  },
  {
   "attachments": {},
   "cell_type": "markdown",
   "metadata": {},
   "source": [
    "# Data Preprocessing\n",
    "Now that we have a better understanding of our data, we can begin preprocessing our data for model training.\n",
    "\n",
    "We understand that our images are not all the same size, and that some images are rotated, dark, or noisy. We also understand that the number of images per class varies greatly in all three of our datasets. We will need to address these issues before we can begin training our model."
   ]
  },
  {
   "attachments": {},
   "cell_type": "markdown",
   "metadata": {},
   "source": [
    "## Shuffle Data\n",
    "\n",
    "First, let's shuffle our data. Shuffling the data refers to the randomization of the order of the examples in our dataset.\n",
    "\n",
    "This will ensure that our data is not ordered in any way, and will help prevent any bias and overfitting in our model."
   ]
  },
  {
   "cell_type": "code",
   "execution_count": null,
   "metadata": {},
   "outputs": [],
   "source": [
    "def shuffle_data(images, labels):\n",
    "    \"\"\"\n",
    "    Shuffles the data.\n",
    "\n",
    "    Args:\n",
    "        images (numpy.ndarray): An array of images.\n",
    "        labels (numpy.ndarray): An array of labels.\n",
    "\n",
    "    Returns:\n",
    "        numpy.ndarray, numpy.ndarray: The shuffled images and labels.\n",
    "    \"\"\"\n",
    "    indices = np.arange(len(images))\n",
    "    np.random.shuffle(indices)\n",
    "    return images[indices], labels[indices]"
   ]
  },
  {
   "cell_type": "code",
   "execution_count": null,
   "metadata": {},
   "outputs": [],
   "source": [
    "# data before shuffling\n",
    "print(\"Before shuffling: \", train_labels[:10])\n",
    "\n",
    "# shuffle data\n",
    "train_images, train_labels = shuffle_data(train_images, train_labels)\n",
    "\n",
    "# data after shuffling\n",
    "print(\"After shuffling: \", train_labels[:10])"
   ]
  },
  {
   "attachments": {},
   "cell_type": "markdown",
   "metadata": {},
   "source": [
    "## Normalize Data\n",
    "\n",
    "Next, let's normalize our data. Normalizing our data will ensure that our data is scaled to a range of 0 to 1.\n",
    "\n",
    "Normalizing the data improves the numeric stability of computations during the training. This also ensures that all the features contribute equally to the result.\n",
    "\n",
    "Not only that, this step is required for some models to work properly."
   ]
  },
  {
   "cell_type": "code",
   "execution_count": null,
   "metadata": {},
   "outputs": [],
   "source": [
    "def normalize_images(images):\n",
    "    \"\"\"\n",
    "    Normalize images to [0, 1] scale.\n",
    "\n",
    "    Args:\n",
    "        images (numpy.ndarray): An array of images.\n",
    "\n",
    "    Returns:\n",
    "        numpy.ndarray: The normalized images.\n",
    "    \"\"\"\n",
    "    # 0,255 -> 0,1\n",
    "    return images / 255.0"
   ]
  },
  {
   "attachments": {},
   "cell_type": "markdown",
   "metadata": {},
   "source": [
    "We will create new variables for our normalized data. \n",
    "\n",
    "We add a `P` at the end to indicate that the data is preprocessed."
   ]
  },
  {
   "cell_type": "code",
   "execution_count": null,
   "metadata": {},
   "outputs": [],
   "source": [
    "train_images_P = normalize_images(train_images)\n",
    "valid_images_P = normalize_images(valid_images)\n",
    "test_images_P = normalize_images(test_images)"
   ]
  },
  {
   "attachments": {},
   "cell_type": "markdown",
   "metadata": {},
   "source": [
    "## Oversample Data\n",
    "\n",
    "Next, let's oversample our data. Oversampling our data refers to the process of randomly duplicating examples in our dataset.\n",
    "\n",
    "This will ensure that the number of images per class is more balanced, and will help prevent any bias and overfitting in our model."
   ]
  },
  {
   "cell_type": "code",
   "execution_count": null,
   "metadata": {},
   "outputs": [],
   "source": [
    "def oversample_images(images, labels, signnames, min_count=300):\n",
    "    \"\"\"\n",
    "    Oversamples images to a minimum count.\n",
    "\n",
    "    Args:\n",
    "        images (numpy.ndarray): An array of images.\n",
    "        labels (numpy.ndarray): An array of labels.\n",
    "        min_count (int): The minimum number of images per label.\n",
    "\n",
    "    Returns:\n",
    "        numpy.ndarray, numpy.ndarray: The oversampled images and labels.\n",
    "    \"\"\"\n",
    "    unique_labels, label_counts = np.unique(labels, return_counts=True)\n",
    "    max_count = np.max(label_counts)\n",
    "\n",
    "    for label in unique_labels:\n",
    "        label_indices = np.where(labels == label)[0]\n",
    "        label_images = images[label_indices]\n",
    "        label_count = len(label_images)\n",
    "\n",
    "        if label_count < min_count:\n",
    "            num_copies = int(np.ceil((max_count - label_count) / label_count))\n",
    "            label_images = np.repeat(label_images, num_copies, axis=0)\n",
    "            label_images = label_images[:max_count - label_count]\n",
    "            label_labels = np.repeat(label, len(label_images))\n",
    "            images = np.concatenate((images, label_images), axis=0)\n",
    "            labels = np.concatenate((labels, label_labels), axis=0)\n",
    "\n",
    "    return shuffle_data(images, labels)"
   ]
  },
  {
   "cell_type": "code",
   "execution_count": null,
   "metadata": {},
   "outputs": [],
   "source": [
    "train_images_P, train_labels = oversample_images(train_images_P, train_labels, signnames)"
   ]
  },
  {
   "attachments": {},
   "cell_type": "markdown",
   "metadata": {},
   "source": [
    "Now let's look at the distribution of the number of images per class for our oversampled data."
   ]
  },
  {
   "cell_type": "code",
   "execution_count": null,
   "metadata": {},
   "outputs": [],
   "source": [
    "plot_label_counts(train_labels, signnames, \"Training\")"
   ]
  },
  {
   "cell_type": "code",
   "execution_count": null,
   "metadata": {},
   "outputs": [],
   "source": [
    "# compare shape of data before and after oversampling\n",
    "print(\"Before oversampling: \", train_images.shape, train_labels.shape)\n",
    "print(\"After oversampling: \", train_images_P.shape, train_labels.shape)"
   ]
  },
  {
   "attachments": {},
   "cell_type": "markdown",
   "metadata": {},
   "source": [
    "Our oversampled data is much more balanced than our original data. This will help prevent any bias and overfitting in our model."
   ]
  },
  {
   "attachments": {},
   "cell_type": "markdown",
   "metadata": {},
   "source": [
    "## One-Hot Encode Labels and Convert to Tensors\n",
    "\n",
    "Next, let's one-hot encode our labels. One-hot encoding our labels refers to the process of converting our labels from a single numeric column to multiple binary columns.\n",
    "\n",
    "This will ensure that our labels are represented in a way that the model can understand."
   ]
  },
  {
   "cell_type": "code",
   "execution_count": null,
   "metadata": {},
   "outputs": [],
   "source": [
    "train_labels_P = tf.one_hot(train_labels, 43)\n",
    "valid_labels_P = tf.one_hot(valid_labels, 43)\n",
    "test_labels_P = tf.one_hot(test_labels, 43)"
   ]
  },
  {
   "attachments": {},
   "cell_type": "markdown",
   "metadata": {},
   "source": [
    "Converting our images to tensors will also ensure that our images are represented in a way that the model can understand."
   ]
  },
  {
   "cell_type": "code",
   "execution_count": null,
   "metadata": {},
   "outputs": [],
   "source": [
    "train_images_Pt = tf.convert_to_tensor(train_images_P, dtype=tf.float32)\n",
    "valid_images_Pt = tf.convert_to_tensor(valid_images_P, dtype=tf.float32)\n",
    "test_images_Pt = tf.convert_to_tensor(test_images_P, dtype=tf.float32)"
   ]
  },
  {
   "cell_type": "code",
   "execution_count": null,
   "metadata": {},
   "outputs": [],
   "source": [
    "print(\"Shape of training images: \", train_images_P.shape)\n",
    "print(\"Shape of validation images: \", valid_images_P.shape)\n",
    "print(\"Shape of testing images: \", test_images_P.shape)\n",
    "print()\n",
    "print(\"Shape of training labels: \", train_labels_P.shape)\n",
    "print(\"Shape of validation labels: \", valid_labels_P.shape)\n",
    "print(\"Shape of testing labels: \", test_labels_P.shape)"
   ]
  },
  {
   "attachments": {},
   "cell_type": "markdown",
   "metadata": {},
   "source": [
    "# Model Training\n",
    "\n",
    "Now that we have preprocessed our data, we can begin training our model with a Convolutional Neural Network (CNN).\n",
    "\n",
    "\n",
    ">An Convolutional Neural Network (CNN) is a type of neural network that is used for image classification and recognition. CNNs apply a series of filters to the raw pixel data of an image to extract and learn higher-level features, which the model can then use for classification. Filters are also known as kernels, which is a smaller-sized matrix used for convolution. Each convolutional layer applies a specific number of filters to the previous layer, and combines their results into a feature map. Pooling layers then reduce the dimensionality of each feature map, further reducing the number of parameters in the model. These pooling layers keep the most important parts of the images. Finally, a fully connected layer is used at the end of the network to perform the classification.\n",
    "Overall, the purpose of CNN is to detect high-level features with the lowest possible spatial resolution.\n",
    "\n",
    "Some potential hyperparameters that should be considered when training a CNN include:\n",
    "* Number of convolutional layers\n",
    "* Max Pooling vs. Average Pooling\n",
    "* Number of filters\n",
    "* Stride\n",
    "* Padding\n",
    "* ... and more\n",
    "\n",
    "\n",
    "To visualize how are model is trained, we will be plotting the training and validation accuracy and loss for each epoch."
   ]
  },
  {
   "cell_type": "code",
   "execution_count": null,
   "metadata": {},
   "outputs": [],
   "source": [
    "def plot_accuracy_loss(model_history, model_name=\"\"):\n",
    "    \"\"\"\n",
    "    Plots the accuracy and loss of a model.\n",
    "\n",
    "    Args:\n",
    "        model_history (tensorflow.python.keras.callbacks.History): The history of the model.\n",
    "        model_name (str): The name of the model.\n",
    "    Returns:\n",
    "        None: Plots the accuracy and loss of a model.\n",
    "    \"\"\"\n",
    "\n",
    "    fig, ax1 = plt.subplots(figsize=(15, 8))\n",
    "\n",
    "    # Accuracy plot\n",
    "    ax1.plot(model_history.history['categorical_accuracy'], color='tab:blue')\n",
    "    ax1.plot(model_history.history['val_categorical_accuracy'], color='tab:orange')\n",
    "    ax1.set_ylabel('Accuracy')\n",
    "    ax1.set_xlabel('Epoch')\n",
    "    ax1.set_ylim([0, 1.1])\n",
    "\n",
    "    # Loss plot\n",
    "    ax2 = ax1.twinx()\n",
    "    ax2.plot(model_history.history['loss'], color='tab:green')\n",
    "    ax2.plot(model_history.history['val_loss'], color='tab:red')\n",
    "    ax2.set_ylabel('Loss')\n",
    "\n",
    "    # Legend, title\n",
    "    lines = ax1.get_lines() + ax2.get_lines()\n",
    "    ax1.legend(lines, ['Train Accuracy', 'Validation Accuracy', 'Train Loss', 'Validation Loss'], loc='lower left')\n",
    "    plt.title('Accuracy and Loss for ' + model_name)\n",
    "    plt.show()\n"
   ]
  },
  {
   "attachments": {},
   "cell_type": "markdown",
   "metadata": {},
   "source": [
    "I will first implement my own CNN architecture and then compare it to the LeNet architecture.\n",
    "\n",
    "## Basic CNN Architecture\n",
    "\n",
    "![image.png](attachment:image.png)\n"
   ]
  },
  {
   "cell_type": "code",
   "execution_count": null,
   "metadata": {},
   "outputs": [],
   "source": [
    "# Define the model architecture\n",
    "cnn_baseline = keras.Sequential([\n",
    "    # strides and padding are the default values but adding them for better understanding\n",
    "    layers.Conv2D(filters=32, kernel_size=(3, 3), strides=(1,1), padding='valid', activation='relu', input_shape=train_images_Pt.shape[1:]), # convulation layer + relu activation\n",
    "    layers.MaxPooling2D((2, 2)), # max pooling layer\n",
    "    layers.Conv2D(filters=32, kernel_size=(3, 3), activation='relu'), # convulation layer + relu activation \n",
    "    layers.MaxPooling2D((2, 2)),# max pooling layer\n",
    "\n",
    "    layers.Flatten(), # flatten layer\n",
    "    \n",
    "    layers.Dense(64, activation='relu'), # fully connected layer + relu activation\n",
    "    layers.Dense(43, activation='softmax')  # 43 classes\n",
    "])\n",
    "\n",
    "# configure parameters for the model\n",
    "loss = keras.losses.CategoricalCrossentropy() # loss function for multi-class classification\n",
    "optimizer = keras.optimizers.Adam(learning_rate=0.001) # adam optimizer\n",
    "metrics = [keras.metrics.CategoricalAccuracy()] # accuracy metric\n",
    "\n",
    "# compile the model\n",
    "cnn_baseline.compile(optimizer=optimizer, loss=loss, metrics=metrics)\n",
    "\n",
    "# print model summary\n",
    "cnn_baseline.summary()"
   ]
  },
  {
   "cell_type": "code",
   "execution_count": null,
   "metadata": {},
   "outputs": [],
   "source": [
    "# fit / train the model\n",
    "start_time = timeit.default_timer()\n",
    "\n",
    "cnn_baseline_history = cnn_baseline.fit(x=train_images_Pt, y=train_labels_P, validation_data=(valid_images_Pt, valid_labels_P), epochs=20, batch_size=64)\n",
    "\n",
    "end_time = timeit.default_timer()\n",
    "print(f\"Execution time: {(end_time - start_time)/60} minutes\")\n",
    "\n",
    "plot_accuracy_loss(cnn_baseline_history, \"CNN Baseline\")\n"
   ]
  },
  {
   "attachments": {},
   "cell_type": "markdown",
   "metadata": {},
   "source": [
    "It appears that the model is overfitting to the training data.  The loss of the validation data does not decrease by much and appears very noisy. The accuracy of the validation data is ~15% lower than the accuracy of the training data.\n",
    "\n",
    "I will try to see how the model performs with regularization and dropout layers to the model to see if that helps.\n",
    "\n",
    ">Regularization is a technique used to reduce overfitting in neural networks. It does this by adding a penalty to the loss function. This penalty is an additional term that is added to the loss function. The penalty term is a function of the weights of the neural network. The regularization term is only added to the loss function during training. During testing, the regularization term is not added to the loss function.\n",
    "\n",
    ">Dropout is a technique used to reduce overfitting in neural networks. It does this by randomly dropping neurons during training. This forces the neural network to learn with different neurons during each epoch. This prevents the neural network from relying on any one neuron to learn the features of the data. During testing, all neurons are used."
   ]
  },
  {
   "attachments": {},
   "cell_type": "markdown",
   "metadata": {},
   "source": [
    "## CNN Model with Dropout and Regularization"
   ]
  },
  {
   "cell_type": "code",
   "execution_count": null,
   "metadata": {},
   "outputs": [],
   "source": [
    "# Define the model architecture\n",
    "cnn_regularized_dropout = keras.Sequential([\n",
    "    # strides and padding are the default values but adding them for better understanding\n",
    "    layers.Conv2D(filters=32, kernel_size=(3, 3), strides=(1,1), padding='valid', activation='relu', input_shape=train_images_Pt.shape[1:]), # convulation layer + relu activation\n",
    "    layers.MaxPooling2D((2, 2)), # max pooling layer\n",
    "    layers.Conv2D(filters=32, kernel_size=(3, 3), activation='relu'), # convulation layer + relu activation\n",
    "    layers.MaxPooling2D((2, 2)), # max pooling layer\n",
    "\n",
    "    layers.Flatten(), # flatten layer\n",
    "\n",
    "    layers.Dense(64, activation='relu', kernel_regularizer = L2(0.001)), # L2 <- driving the parameters towards zero - decreases complexity\n",
    "    layers.Dropout(0.40), # dropout layer - probability chance of dropping a neuron\n",
    "    layers.Dense(64, activation='relu', kernel_regularizer = L2(0.001)), # L2 <- driving the parameters towards zero - decreases complexity\n",
    "    layers.Dropout(0.40), # dropout layer - probability chance of dropping a neuron\n",
    "    layers.Dense(43, activation='softmax')  # 43 classes\n",
    "])\n",
    "\n",
    "# configure parameters for the model\n",
    "loss = keras.losses.CategoricalCrossentropy() # loss function for multi-class classification\n",
    "optimizer = keras.optimizers.Adam(learning_rate=0.001) # adam optimizer\n",
    "metrics = [keras.metrics.CategoricalAccuracy()] # accuracy metric\n",
    "\n",
    "# compile the model\n",
    "cnn_regularized_dropout.compile(optimizer=optimizer, loss=loss, metrics=metrics)\n",
    "\n",
    "cnn_regularized_dropout.summary()\n"
   ]
  },
  {
   "cell_type": "code",
   "execution_count": null,
   "metadata": {},
   "outputs": [],
   "source": [
    "# fit / train the model\n",
    "start_time = timeit.default_timer()\n",
    "\n",
    "cnn_regularized_dropout_history = cnn_regularized_dropout.fit(x=train_images_Pt, y=train_labels_P, validation_data=(valid_images_Pt, valid_labels_P), epochs=20, batch_size=64)\n",
    "\n",
    "end_time = timeit.default_timer()\n",
    "\n",
    "print(f\"Execution time: {(end_time - start_time)/60} minutes\")\n",
    "\n",
    "plot_accuracy_loss(cnn_regularized_dropout_history, \"CNN Regularized Dropout\")\n"
   ]
  },
  {
   "attachments": {},
   "cell_type": "markdown",
   "metadata": {},
   "source": [
    "After adding the regularization and dropout layers, the model significantly improves, and overfits less to the training data. The loss of the validation data decreases by a lot and is much less noisy. The accuracy of the validation data is now only ~5% lower than the accuracy of the training data."
   ]
  },
  {
   "attachments": {
    "image-2.png": {
     "image/png": "[encoded data removed]"
    }
   },
   "cell_type": "markdown",
   "metadata": {},
   "source": [
    "## Basic LeNet5 Model\n",
    "\n",
    "![image-2.png](attachment:image-2.png)\n",
    "\n",
    ">LeNet5 is one of the applications of the Convolution Neural Network. Yann LeCun developed it in 1989. CNN is a feed-forward neural network whose neurons can respond to the neighboring neurons and performs magnificently in a wide range of image processing. \n",
    "\n",
    "This model differs from our basic CNN architecture as it uses average pooling instead of max pooling, and uses tanh activation instead of relu activation.\n",
    "It also uses a different number of filters in each convolutional layer.\n"
   ]
  },
  {
   "cell_type": "code",
   "execution_count": null,
   "metadata": {},
   "outputs": [],
   "source": [
    "# Define the model architecture\n",
    "lenet_baseline = keras.Sequential([\n",
    "    layers.Conv2D(filters=6, kernel_size=(5, 5), strides=(1,1), padding='same', activation='tanh', input_shape=train_images_Pt.shape[1:]), # convulation layer + relu activation\n",
    "    layers.AveragePooling2D(), # average pooling layer\n",
    "    layers.Conv2D(filters=16, kernel_size=(5, 5), strides=(1,1), activation='tanh', padding='valid'), # convulation layer + relu activation \n",
    "    layers.AveragePooling2D(),# average pooling layer\n",
    "    layers.Conv2D(filters=120, kernel_size=(5, 5), strides=(1,1), activation='tanh', padding='valid'), # convulation layer + relu activation\n",
    "\n",
    "    layers.Flatten(), # flatten layer\n",
    "    \n",
    "    layers.Dense(84, activation='tanh'), # fully connected layer + relu activation\n",
    "    layers.Dense(43, activation='softmax')  # 43 classes\n",
    "])\n",
    "\n",
    "loss = keras.losses.CategoricalCrossentropy() # loss function for multi-class classification\n",
    "optimizer = keras.optimizers.Adam(learning_rate=0.001) # adam optimizer\n",
    "metrics = [keras.metrics.CategoricalAccuracy()] # accuracy metric\n",
    "\n",
    "# compile the model\n",
    "lenet_baseline.compile(optimizer=optimizer, loss=loss, metrics=metrics)\n",
    "\n",
    "print(lenet_baseline.summary()) # see model architecture"
   ]
  },
  {
   "cell_type": "code",
   "execution_count": null,
   "metadata": {},
   "outputs": [],
   "source": [
    "# fit / train the model\n",
    "start_time = timeit.default_timer()\n",
    "\n",
    "lenet_baseline_history = lenet_baseline.fit(x=train_images_Pt, y=train_labels_P, validation_data=(valid_images_Pt, valid_labels_P), epochs=20, batch_size=64)\n",
    "\n",
    "end_time = timeit.default_timer()\n",
    "print(f\"Execution time: {(end_time - start_time)/60} minutes\")\n",
    "\n",
    "plot_accuracy_loss(lenet_baseline_history, \"LeNet Baseline\")"
   ]
  },
  {
   "attachments": {},
   "cell_type": "markdown",
   "metadata": {},
   "source": [
    "Once again, we have a model that is overfitting to the training data, and the loss function of the validation data is somewhat noisy. The accuracy of the validation data is ~15% lower than the accuracy of the training data.\n",
    "\n",
    "Let's add regularization and dropout layers to the LeNet5 model to see if that helps."
   ]
  },
  {
   "attachments": {},
   "cell_type": "markdown",
   "metadata": {},
   "source": [
    "## LeNet5 Model with Dropout and Regularization"
   ]
  },
  {
   "cell_type": "code",
   "execution_count": 248,
   "metadata": {},
   "outputs": [
    {
     "name": "stdout",
     "output_type": "stream",
     "text": [
      "Model: \"sequential_17\"\n",
      "_________________________________________________________________\n",
      "Layer (type)                 Output Shape              Param #   \n",
      "=================================================================\n",
      "conv2d_42 (Conv2D)           (None, 32, 32, 6)         456       \n",
      "_________________________________________________________________\n",
      "average_pooling2d_31 (Averag (None, 16, 16, 6)         0         \n",
      "_________________________________________________________________\n",
      "conv2d_43 (Conv2D)           (None, 12, 12, 16)        2416      \n",
      "_________________________________________________________________\n",
      "average_pooling2d_32 (Averag (None, 6, 6, 16)          0         \n",
      "_________________________________________________________________\n",
      "conv2d_44 (Conv2D)           (None, 2, 2, 120)         48120     \n",
      "_________________________________________________________________\n",
      "dropout_18 (Dropout)         (None, 2, 2, 120)         0         \n",
      "_________________________________________________________________\n",
      "flatten_17 (Flatten)         (None, 480)               0         \n",
      "_________________________________________________________________\n",
      "dense_41 (Dense)             (None, 84)                40404     \n",
      "_________________________________________________________________\n",
      "dropout_19 (Dropout)         (None, 84)                0         \n",
      "_________________________________________________________________\n",
      "dense_42 (Dense)             (None, 43)                3655      \n",
      "=================================================================\n",
      "Total params: 95,051\n",
      "Trainable params: 95,051\n",
      "Non-trainable params: 0\n",
      "_________________________________________________________________\n",
      "None\n"
     ]
    }
   ],
   "source": [
    "# Define the model architecture\n",
    "lenet_regularized_dropout = keras.Sequential([\n",
    "    layers.Conv2D(filters=6, kernel_size=(5, 5), strides=(1,1), padding='same', activation='tanh', input_shape=train_images_Pt.shape[1:]), # convulation layer + relu activation\n",
    "    layers.AveragePooling2D(), # average pooling layer\n",
    "    layers.Conv2D(filters=16, kernel_size=(5, 5), strides=(1,1), activation='tanh', padding='valid'), # convulation layer + relu activation \n",
    "    layers.AveragePooling2D(),# average pooling layer\n",
    "    layers.Conv2D(filters=120, kernel_size=(5, 5), strides=(1,1), activation='tanh', padding='valid'), # convulation layer + relu activation\n",
    "    layers.Dropout(0.40), # dropout layer - probability chance of dropping a neuron\n",
    "\n",
    "    layers.Flatten(), # flatten layer\n",
    "    \n",
    "    layers.Dense(84, activation='tanh', kernel_regularizer = L2(0.001)), # fully connected layer + relu activation\n",
    "    layers.Dropout(0.40), # dropout layer - probability chance of dropping a neuron\n",
    "    layers.Dense(43, activation='softmax')  # 43 classes\n",
    "])\n",
    "\n",
    "loss = keras.losses.CategoricalCrossentropy() # loss function for multi-class classification\n",
    "optimizer = keras.optimizers.Adam(learning_rate=0.001) # adam optimizer\n",
    "metrics = [keras.metrics.CategoricalAccuracy()] # accuracy metric\n",
    "\n",
    "# compile the model\n",
    "lenet_regularized_dropout.compile(optimizer=optimizer, loss=loss, metrics=metrics)\n",
    "\n",
    "print(lenet_regularized_dropout.summary()) # see model architecture"
   ]
  },
  {
   "cell_type": "code",
   "execution_count": null,
   "metadata": {},
   "outputs": [],
   "source": [
    "# fit / train the model\n",
    "start_time = timeit.default_timer()\n",
    "\n",
    "lenet_regularized_dropout_history = lenet_regularized_dropout.fit(x=train_images_Pt, y=train_labels_P, validation_data=(valid_images_Pt, valid_labels_P), epochs=20, batch_size=64)\n",
    "\n",
    "end_time = timeit.default_timer()\n",
    "print(f\"Execution time: {(end_time - start_time)/60} minutes\")\n",
    "\n",
    "plot_accuracy_loss(lenet_regularized_dropout_history, \"LeNet Regularized Dropout\")"
   ]
  },
  {
   "attachments": {},
   "cell_type": "markdown",
   "metadata": {},
   "source": [
    "This model is much better than the previous LeNet5 model. The loss of the validation data decreases by a lot and is much less noisy."
   ]
  },
  {
   "attachments": {},
   "cell_type": "markdown",
   "metadata": {},
   "source": [
    "## Saving the Best Models\n",
    "\n",
    "We can save our two strong models `cnn_regularized_dropout` and `lenet5_regularized_dropout` to use for our final model evaluation."
   ]
  },
  {
   "cell_type": "code",
   "execution_count": null,
   "metadata": {},
   "outputs": [],
   "source": [
    "# save all the models\n",
    "cnn_regularized_dropout.save('cnn_regularized_dropout')\n",
    "lenet_regularized_dropout.save('lenet_regularized_dropout')"
   ]
  },
  {
   "attachments": {},
   "cell_type": "markdown",
   "metadata": {},
   "source": [
    "# Model Evaluation\n",
    "\n",
    "Now that we have trained our models, we can evaluate our model on the test set.\n",
    "\n",
    "## Evaluate Model on Test Set"
   ]
  },
  {
   "cell_type": "code",
   "execution_count": null,
   "metadata": {},
   "outputs": [],
   "source": [
    "test_loss_cnn, test_accuracy_cnn = cnn_regularized_dropout.evaluate(test_images_Pt, test_labels_P)\n",
    "print(\"Test Loss for CNN:\", test_loss_cnn)\n",
    "print(\"Test Accuracy for CNN:\", test_accuracy_cnn)\n",
    "\n",
    "test_loss_lenet, test_accuracy_lenet = lenet_regularized_dropout.evaluate(test_images_Pt, test_labels_P)\n",
    "print(\"Test Loss for LeNet:\", test_loss_lenet)\n",
    "print(\"Test Accuracy for LeNet:\", test_accuracy_lenet)"
   ]
  },
  {
   "attachments": {},
   "cell_type": "markdown",
   "metadata": {},
   "source": [
    "Both models have decent accuracy on the test set, but the `cnn_regularized_dropout` model has a slightly higher accuracy than the `lenet5_regularized_dropout` model."
   ]
  },
  {
   "attachments": {},
   "cell_type": "markdown",
   "metadata": {},
   "source": [
    "## Confusion Matrix\n",
    "\n",
    "Let's take a look at the confusion matrix for our model. We can see what classes our model is getting confused with."
   ]
  },
  {
   "cell_type": "code",
   "execution_count": null,
   "metadata": {},
   "outputs": [],
   "source": [
    "def plot_confusion_matrix(model, test_images, test_labels, signnames, model_name=\"\"):\n",
    "    \"\"\"\n",
    "    Plots the confusion matrix for a given model.\n",
    "\n",
    "    Args:\n",
    "        model: trained model\n",
    "        test_images: images from the test set\n",
    "        test_labels: labels from the test set\n",
    "        signnames: list of signnames\n",
    "    \n",
    "    Returns:\n",
    "        None: plots the confusion matrix\n",
    "    \"\"\"\n",
    "\n",
    "    # Make predictions on the test data\n",
    "    test_predictions = model.predict(test_images)\n",
    "    \n",
    "    # Convert predictions from one-hot encoding to class labels\n",
    "    test_predicted_labels = np.argmax(test_predictions, axis=1)\n",
    "    \n",
    "    # Convert true labels from one-hot encoding to class labels\n",
    "    test_true_labels = np.argmax(test_labels, axis=1)\n",
    "    \n",
    "    # Create a confusion matrix\n",
    "    confusion_matrix = tf.math.confusion_matrix(test_true_labels, test_predicted_labels)\n",
    "    \n",
    "    # Plot the confusion matrix\n",
    "    plt.figure(figsize=(12, 10))\n",
    "    sns.heatmap(confusion_matrix, annot=True, fmt='d', cbar=False)\n",
    "    plt.xlabel('Predicted Labels')\n",
    "    plt.ylabel('True Labels')\n",
    "    plt.title(f'Confusion Matrix for {model_name}')\n",
    "    plt.xticks(np.arange(len(signnames)), [signnames[i] for i in range(len(signnames))], rotation='vertical')\n",
    "    plt.yticks(np.arange(len(signnames)), [signnames[i] for i in range(len(signnames))], rotation='horizontal')\n",
    "    plt.show()"
   ]
  },
  {
   "cell_type": "code",
   "execution_count": null,
   "metadata": {},
   "outputs": [],
   "source": [
    "plot_confusion_matrix(cnn_regularized_dropout, test_images_Pt, test_labels_P, signnames, \"CNN\")"
   ]
  },
  {
   "cell_type": "code",
   "execution_count": null,
   "metadata": {},
   "outputs": [],
   "source": [
    "plot_confusion_matrix(lenet_regularized_dropout, test_images_Pt, test_labels_P, signnames, \"LeNet\")"
   ]
  },
  {
   "attachments": {},
   "cell_type": "markdown",
   "metadata": {},
   "source": [
    "## Plot Misclassified Images\n",
    "\n",
    "Let's plot some of the misclassified images to see what our model is getting wrong."
   ]
  },
  {
   "cell_type": "code",
   "execution_count": null,
   "metadata": {},
   "outputs": [],
   "source": [
    "def plot_misclassified_images(images, true_labels, predicted_labels, signnames):\n",
    "    \"\"\"\n",
    "    Plots the misclassified traffic sign images.\n",
    "\n",
    "    Args:\n",
    "        images (np.ndarray): Array of traffic sign images.\n",
    "        true_labels (np.ndarray): Array of true labels.\n",
    "        predicted_labels (np.ndarray): Array of predicted labels.\n",
    "        signnames (dict): Dictionary containing sign names.\n",
    "    \"\"\"\n",
    "    misclassified_indices = np.where(true_labels != predicted_labels)[0]\n",
    "    # take 5 random misclassified indices\n",
    "    random_misclassified_indices = np.random.choice(misclassified_indices, 5, replace=False)\n",
    "\n",
    "    for index in random_misclassified_indices:\n",
    "        print(index)\n",
    "        true_label = true_labels[index]\n",
    "        predicted_label = predicted_labels[index]\n",
    "        image = images[index]\n",
    "        # plot the image\n",
    "        plt.figure(figsize=(5, 5))\n",
    "        plt.imshow(image)\n",
    "        # plot image of the incorrect label\n",
    "        plt.title(\"True label: {} | Predicted: {}\".format(signnames[true_label], signnames[predicted_label]))"
   ]
  },
  {
   "attachments": {},
   "cell_type": "markdown",
   "metadata": {},
   "source": [
    "Let's grab the predictions for the test set for each model."
   ]
  },
  {
   "cell_type": "code",
   "execution_count": null,
   "metadata": {},
   "outputs": [],
   "source": [
    "predictions_cnn = cnn_regularized_dropout.predict(test_images_Pt)\n",
    "predictions_cnn = np.argmax(predictions_cnn, axis=1)\n",
    "\n",
    "predictions_lenet = lenet_regularized_dropout.predict(test_images_Pt)\n",
    "predictions_lenet = np.argmax(predictions_lenet, axis=1)"
   ]
  },
  {
   "attachments": {},
   "cell_type": "markdown",
   "metadata": {},
   "source": [
    "And plot some of the misclassified images for each model.\n",
    "\n",
    "### Misclassified Images for `cnn_regularized_dropout`"
   ]
  },
  {
   "cell_type": "code",
   "execution_count": null,
   "metadata": {},
   "outputs": [],
   "source": [
    "plot_misclassified_images(test_images_Pt, test_labels, predictions_cnn, signnames)"
   ]
  },
  {
   "attachments": {},
   "cell_type": "markdown",
   "metadata": {},
   "source": [
    "### Misclassified Images for `lenet5_regularized_dropout`"
   ]
  },
  {
   "cell_type": "code",
   "execution_count": null,
   "metadata": {},
   "outputs": [],
   "source": [
    "plot_misclassified_images(test_images_Pt, test_labels, predictions_lenet, signnames)"
   ]
  },
  {
   "attachments": {},
   "cell_type": "markdown",
   "metadata": {},
   "source": [
    "We can get a better idea of what our model is getting wrong by looking at the activation heatmap for each model.\n",
    "\n",
    "## Activation Heatmap\n",
    "\n",
    "> An activation heatmap, often implemented using Grad-CAM (Gradient-weighted Class Activation Mapping), is a visualization technique that highlights the important regions in an input image that contribute the most to the predictions made by a convolutional neural network (CNN).\n",
    "\n",
    "In the class below, we can create an activation heatmap for any image in our dataset. This code was adapted from [this](https://github.com/wiqaaas/youtube/blob/master/Deep_Learning_Using_Tensorflow/Demystifying_CNN/Gradient%20Visualization.ipynb) example."
   ]
  },
  {
   "cell_type": "code",
   "execution_count": 237,
   "metadata": {},
   "outputs": [],
   "source": [
    "class GradCAM:\n",
    "    def __init__(self, model, classId, layerName=None):\n",
    "        self.model = model\n",
    "        self.classId = classId\n",
    "        self.layerName = layerName\n",
    "\n",
    "        # if the layer name is None, attempt to automatically find\n",
    "        # the target output layer\n",
    "        if self.layerName is None:\n",
    "            self.layerName = self.find_target_layer()\n",
    "    \n",
    "    def find_target_layer(self):\n",
    "        # attempt to find the final convolutional layer in the network\n",
    "        # by looping over the layers of the network in reverse order\n",
    "        for layer in reversed(self.model.layers):\n",
    "            # check to see if the layer has a 4D output\n",
    "            if len(layer.output_shape) == 4:\n",
    "                return layer.name\n",
    "        \n",
    "        # otherwise, we could not find a 4D layer so the GradCAM\n",
    "        # algorithm cannot be applied\n",
    "        raise ValueError(\"Could not find 4D layer. Cannot apply GradCAM.\")\n",
    "    \n",
    "    def compute_heatmap(self, image, eps=1e-8):\n",
    "        # construct our gradient model by supplying (1) the inputs\n",
    "        # to our pre-trained model, (2) the output of the (presumably)\n",
    "        # final 4D layer in the network, and (3) the output of the\n",
    "        # softmax activations from the model\n",
    "        gradModel = Model(\n",
    "            inputs=[self.model.inputs],\n",
    "            outputs=[self.model.get_layer(self.layerName).output,\n",
    "                self.model.output] # find output and the gradients\n",
    "        )\n",
    "        \n",
    "        # record operations for automatic differentiation\n",
    "        with tf.GradientTape() as tape:\n",
    "            # cast the image tensor to a float-32 data type, pass the\n",
    "            # image through the gradient model, and grab the loss\n",
    "            # associated with the specific class index\n",
    "            inputs = tf.cast(image, tf.float32)\n",
    "            (convOutputs, predictions) = gradModel(inputs)\n",
    "            loss = predictions[:, self.classId]\n",
    "        \n",
    "        # use automatic differentiation to compute the gradients\n",
    "        grads = tape.gradient(loss, convOutputs)\n",
    "        \n",
    "        # compute the guided gradients\n",
    "        castConvOutputs = tf.cast(convOutputs > 0, \"float32\")\n",
    "        castGrads = tf.cast(grads > 0, \"float32\")\n",
    "        guidedGrads = castConvOutputs * castGrads * grads\n",
    "        \n",
    "        # the convolution and guided gradients have a batch dimension\n",
    "        # (which we don't need) so let's grab the volume itself and\n",
    "        # discard the batch\n",
    "        convOutputs = convOutputs[0]\n",
    "        guidedGrads = guidedGrads[0]\n",
    "        \n",
    "        # compute the average of the gradient values, and using them\n",
    "        # as weights, compute the ponderation of the filters with\n",
    "        # respect to the weights\n",
    "        weights = tf.reduce_mean(guidedGrads, axis=(0, 1))\n",
    "        cam = tf.reduce_sum(tf.multiply(weights, convOutputs), axis=-1) # equivalent to np.dot\n",
    "        \n",
    "        # grab the spatial dimensions of the input image and resize\n",
    "        # the output class activation map to match the input image\n",
    "        # dimensions\n",
    "        (w, h) = (image.shape[2], image.shape[1])\n",
    "        heatmap = cv2.resize(cam.numpy(), (w, h))\n",
    "        \n",
    "        # normalize the heatmap such that all values lie in the range\n",
    "        # [0, 1], scale the resulting values to the range [0, 255],\n",
    "        # and then convert to an unsigned 8-bit integer\n",
    "        numer = heatmap - np.min(heatmap)\n",
    "        denom = (heatmap.max() - heatmap.min()) + eps\n",
    "        heatmap = numer / denom\n",
    "        heatmap = (heatmap * 255).astype(\"uint8\")\n",
    "\n",
    "        # return the resulting heatmap to the calling function\n",
    "        return heatmap\n",
    "    \n",
    "    def overlay_heatmap(self, heatmap, image, alpha=0.9, overlay_alpha=0.55,\n",
    "        colormap=cv2.COLORMAP_JET):\n",
    "\n",
    "        # apply the supplied color map to the heatmap and then1\n",
    "        heatmap = cv2.applyColorMap(heatmap, colormap)   \n",
    "\n",
    "        # check to see if image\n",
    "        # convert image to 0 -> 255\n",
    "        image = (image * 255).astype(\"uint8\")\n",
    "\n",
    "        # specifiy the output array type (must be explicitly specified in function 'arithm_op')\n",
    "        # https://stackoverflow.com/questions/37198898/opencv-python-typeerror-src-data-type-16-is-not-supported\n",
    "        output = cv2.addWeighted(image, alpha, heatmap, overlay_alpha, 0, dtype=cv2.CV_8U)\n",
    "\n",
    "        # return a 2-tuple of the color mapped heatmap and the output,\n",
    "        # overlaid image\n",
    "        return (heatmap, output)"
   ]
  },
  {
   "attachments": {},
   "cell_type": "markdown",
   "metadata": {},
   "source": [
    "First we must expand the dimensions of our image to match the dimensions of our model.\n",
    "\n",
    "We will use two images that were misclassified by our models\n",
    "1. 142 - Go Straight or Right (shown from our `cnn_regularized_dropout` model)\n",
    "2. 1342 - Speed Limit 20km/h (shown from our `lenet5_regularized_dropout` model)"
   ]
  },
  {
   "cell_type": "code",
   "execution_count": 210,
   "metadata": {},
   "outputs": [
    {
     "name": "stdout",
     "output_type": "stream",
     "text": [
      "Shape of test_images_142 before expanded dimensions:  (32, 32, 3)\n",
      "Shape of test_images_1342 before expanded dimensions:  (32, 32, 3)\n",
      "Shape of test_images_142 after expanded dimensions:  (1, 32, 32, 3)\n",
      "Shape of test_images_1342 after expanded dimensions:  (1, 32, 32, 3)\n"
     ]
    }
   ],
   "source": [
    "print(\"Shape of test_images_142 before expanded dimensions: \", test_images_Pt[142].shape)\n",
    "print(\"Shape of test_images_1342 before expanded dimensions: \", test_images_Pt[1342].shape)\n",
    "\n",
    "test_image_142 = np.expand_dims(test_images_Pt[142], axis=0)\n",
    "test_image_1342 = np.expand_dims(test_images_Pt[1342], axis=0)\n",
    "\n",
    "print(\"Shape of test_images_142 after expanded dimensions: \", test_image_142.shape)\n",
    "print(\"Shape of test_images_1342 after expanded dimensions: \", test_image_1342.shape)"
   ]
  },
  {
   "attachments": {},
   "cell_type": "markdown",
   "metadata": {},
   "source": [
    "Now we must get the predicted class for each image, for each model."
   ]
  },
  {
   "cell_type": "code",
   "execution_count": null,
   "metadata": {},
   "outputs": [],
   "source": [
    "def get_prediction_metrics(model, test_images, test_labels, signnames):\n"
   ]
  },
  {
   "cell_type": "code",
   "execution_count": 221,
   "metadata": {},
   "outputs": [
    {
     "name": "stdout",
     "output_type": "stream",
     "text": [
      "CNN prediction for image 142:  40 - Roundabout mandatory - Accuracy:  0.44482028\n",
      "LeNet prediction for image 142:  36  -  Go straight or right - Accuracy:  0.99968016\n",
      "True label for image 142:  36  -  Go straight or right\n",
      "\n",
      "CNN prediction for image 1342:  0  -  Speed limit (20km/h) - Accuracy:  0.9595203\n",
      "LeNet prediction for image 1342:  4  -  Speed limit (70km/h) - Accuracy:  0.60752463\n",
      "True label for image 1342:  0  -  Speed limit (20km/h)\n"
     ]
    }
   ],
   "source": [
    "cnn_predictions_142 = cnn_regularized_dropout.predict(test_image_142) # predict on the image\n",
    "i_cnn_predictions_142 = np.argmax(cnn_predictions_142[0]) # find the index of the maximum value (i.e. highest probability - i.e. the predicted class)\n",
    "label_cnn_predictions_142 = signnames[i_cnn_predictions_142] # find the label of the predicted class\n",
    "cnn_pred_accuracy_142 = cnn_predictions_142[0][i_cnn_predictions_142] # find the probability of the predicted class\n",
    "\n",
    "true_label_142 = signnames[test_labels[142]] # find the true label of the image\n",
    "\n",
    "# repeat for image 1342\n",
    "\n",
    "cnn_predictions_1342 = cnn_regularized_dropout.predict(test_image_1342) \n",
    "i_cnn_predictions_1342 = np.argmax(cnn_predictions_1342[0]) \n",
    "label_cnn_predictions_1342 = signnames[i_cnn_predictions_1342]\n",
    "cnn_pred_accuracy_1342 = cnn_predictions_1342[0][i_cnn_predictions_1342] \n",
    "\n",
    "true_label_1342 = signnames[test_labels[1342]]\n",
    "\n",
    "# repeat for LeNet\n",
    "\n",
    "lenet_predictions_142 = lenet_regularized_dropout.predict(test_image_142)\n",
    "i_lenet_predictions_142 = np.argmax(lenet_predictions_142[0])\n",
    "label_lenet_predictions_142 = signnames[i_lenet_predictions_142]\n",
    "lenet_pred_accuracy_142 = lenet_predictions_142[0][i_lenet_predictions_142]\n",
    "\n",
    "lenet_predictions_1342 = lenet_regularized_dropout.predict(test_image_1342)\n",
    "i_lenet_predictions_1342 = np.argmax(lenet_predictions_1342[0])\n",
    "label_lenet_predictions_1342 = signnames[i_lenet_predictions_1342]\n",
    "lenet_pred_accuracy_1342 = lenet_predictions_1342[0][i_lenet_predictions_1342]\n",
    "\n",
    "print(\"CNN prediction for image 142: \", i_cnn_predictions_142, \"-\", label_cnn_predictions_142, \"- Accuracy: \", cnn_pred_accuracy_142)\n",
    "print(\"LeNet prediction for image 142: \", i_lenet_predictions_142, \" - \", label_lenet_predictions_142, \"- Accuracy: \", lenet_pred_accuracy_142)\n",
    "print(\"True label for image 142: \", test_labels[142], \" - \", true_label_142)\n",
    "print()\n",
    "print(\"CNN prediction for image 1342: \", i_cnn_predictions_1342, \" - \", label_cnn_predictions_1342, \"- Accuracy: \", cnn_pred_accuracy_1342)\n",
    "print(\"LeNet prediction for image 1342: \", i_lenet_predictions_1342, \" - \", label_lenet_predictions_1342, \"- Accuracy: \", lenet_pred_accuracy_1342)\n",
    "print(\"True label for image 1342: \", test_labels[1342], \" - \", true_label_1342)"
   ]
  },
  {
   "attachments": {},
   "cell_type": "markdown",
   "metadata": {},
   "source": [
    "We can see that our `cnn_regularized_dropout` model is predicting `image 1342` accurately, but our `lenet5_regularized_dropout` model is not.\n",
    "We can also see that our `lenet5_regularized_dropout` model is predicting `image 142` accurately, but our `cnn_regularized_dropout` model is not.\n",
    "\n",
    "We can now plot the activation heatmap for each image, for each model."
   ]
  },
  {
   "cell_type": "code",
   "execution_count": 239,
   "metadata": {},
   "outputs": [],
   "source": [
    "def plot_activation_heatmap(cam, image, label, pred_label, pred_prob):\n",
    "    \"\"\"\n",
    "    Plots the activation heatmap for a given image and the corresponding overlay\n",
    "    Args:\n",
    "        cam: the class activation map object\n",
    "        heatmap: the heatmap to plot\n",
    "        image: the image to plot\n",
    "        label: the true label of the image\n",
    "        pred_label: the predicted label of the image\n",
    "        pred_prob: the probability of the predicted label\n",
    "        overlay_alpha: the alpha value for the heatmap overlay\n",
    "    \n",
    "    Returns:\n",
    "        None - plots the image, heatmap and overlay\n",
    "    \"\"\"\n",
    "    # compute the heatmap for the image\n",
    "    heatmap = cam.compute_heatmap(image)\n",
    "    image = image.squeeze()\n",
    "    # overlap the heatmap onto the image\n",
    "    (heatmap, overlay) = cam.overlay_heatmap(heatmap, image)\n",
    "\n",
    "    # plot the original image and the three heat map methods\n",
    "    fig, axs = plt.subplots(1, 3, figsize=(15, 5))\n",
    "    axs[0].imshow(image)\n",
    "    axs[0].set_title(\"Original\")\n",
    "    axs[1].imshow(heatmap)\n",
    "    axs[1].set_title(\"Heatmap\")\n",
    "    axs[2].imshow(output)\n",
    "    axs[2].set_title(\"Overlay\")\n",
    "    fig.suptitle(\"True label: {} - Predicted label: {} - Probability: {:.2f}%\".format(label, pred_label, pred_prob * 100))\n",
    "    plt.show()\n"
   ]
  },
  {
   "cell_type": "code",
   "execution_count": 281,
   "metadata": {},
   "outputs": [
    {
     "data": {
      "image/png": "[encoded data removed]",
      "text/plain": [
       "<Figure size 1500x500 with 3 Axes>"
      ]
     },
     "metadata": {},
     "output_type": "display_data"
    }
   ],
   "source": [
    "cam_cnn_142 = GradCAM(cnn_regularized_dropout, i_cnn_predictions_142, layerName=\"conv2d_3\")\n",
    "#cam_cnn_142 = GradCAM(cnn_regularized_dropout, i_cnn_predictions_142)\n",
    "plot_activation_heatmap(cam_cnn_142, test_image_142, true_label_142, label_cnn_predictions_142, cnn_pred_accuracy_142)"
   ]
  },
  {
   "cell_type": "code",
   "execution_count": 278,
   "metadata": {},
   "outputs": [
    {
     "data": {
      "image/png": "[encoded data removed]",
      "text/plain": [
       "<Figure size 1500x500 with 3 Axes>"
      ]
     },
     "metadata": {},
     "output_type": "display_data"
    }
   ],
   "source": [
    "cam_lenet_142 = GradCAM(lenet_regularized_dropout, i_lenet_predictions_142, layerName=\"conv2d_43\")\n",
    "plot_activation_heatmap(cam_lenet_142, test_image_142, true_label_142, label_lenet_predictions_142, lenet_pred_accuracy_142)"
   ]
  },
  {
   "cell_type": "code",
   "execution_count": 273,
   "metadata": {},
   "outputs": [],
   "source": [
    "cam_lenet_142 = GradCAM(lenet_regularized_dropout, i_lenet_predictions_1342, layerName=\"conv2d_43\")"
   ]
  },
  {
   "cell_type": "code",
   "execution_count": 274,
   "metadata": {},
   "outputs": [],
   "source": [
    "heatmap = cam_lenet_142.compute_heatmap(test_image_1342)"
   ]
  },
  {
   "cell_type": "code",
   "execution_count": 251,
   "metadata": {},
   "outputs": [],
   "source": [
    "#heatmap = cam_cnn_142.compute_heatmap(test_image_142)"
   ]
  },
  {
   "cell_type": "code",
   "execution_count": 269,
   "metadata": {},
   "outputs": [
    {
     "name": "stdout",
     "output_type": "stream",
     "text": [
      "Shape of heatmap:  (32, 32)\n"
     ]
    }
   ],
   "source": [
    "print(\"Shape of heatmap: \", heatmap.shape)"
   ]
  },
  {
   "cell_type": "code",
   "execution_count": 231,
   "metadata": {},
   "outputs": [],
   "source": [
    "# resize the resulting heatmap to the original input image dimensions -> 32,32,3\n",
    "#heatmap = cv2.resize(heatmap, (image.shape[0], image.shape[1]))\n",
    "#heatmap = cv2.resize(heatmap, (test_image_142.shape[1], test_image_142.shape[0]))"
   ]
  },
  {
   "cell_type": "code",
   "execution_count": 275,
   "metadata": {},
   "outputs": [
    {
     "name": "stdout",
     "output_type": "stream",
     "text": [
      "(32, 32)\n",
      "(1, 32, 32, 3)\n"
     ]
    }
   ],
   "source": [
    "print(heatmap.shape)\n",
    "print(test_image_1342.shape)"
   ]
  },
  {
   "cell_type": "code",
   "execution_count": 276,
   "metadata": {},
   "outputs": [],
   "source": [
    "# and then overlay heatmap on top of the image\n",
    "#heatmap = heatmap.astype(np.float32)\n",
    "#image = test_image_142.squeeze()\n",
    "image = test_image_1342.squeeze()\n",
    "(heatmap, output) = cam.overlay_heatmap(heatmap, image)"
   ]
  },
  {
   "cell_type": "code",
   "execution_count": 277,
   "metadata": {},
   "outputs": [
    {
     "data": {
      "image/png": "[encoded data removed]",
      "text/plain": [
       "<Figure size 1500x1000 with 3 Axes>"
      ]
     },
     "metadata": {},
     "output_type": "display_data"
    }
   ],
   "source": [
    "# plot the original image and the three heat map methods\n",
    "fig, axs = plt.subplots(1, 3, figsize=(15, 10))\n",
    "axs[0].imshow(image)\n",
    "axs[0].set_title(\"Original\")\n",
    "axs[1].imshow(heatmap)\n",
    "axs[1].set_title(\"Heatmap\")\n",
    "axs[2].imshow(output)\n",
    "axs[2].set_title(\"Overlay\")\n",
    "plt.show()"
   ]
  },
  {
   "cell_type": "code",
   "execution_count": null,
   "metadata": {},
   "outputs": [],
   "source": [
    "# 1) Save whole model\n",
    "# SavedModel or HDF5 (Hierarchical Data Format)\n",
    "#model.save('traffic_signs_model_initial')\n",
    "\n",
    "# 2) Save only weights\n",
    "#model.save_weights('traffic_signs_model_weights_initial')\n",
    "\n",
    "# 3) Save only architecture\n",
    "'''\n",
    "model_arch = model.to_json()\n",
    "with open('traffic_signs_model_architecture_initial.json', 'w') as f:\n",
    "    f.write(model_arch)\n",
    "with open('traffic_signs_model_architecture_initial.json', 'r') as f:\n",
    "    model_architecture = f.read()\n",
    "\n",
    "new_model = keras.models.model_from_json(model_architecture)\n",
    "# this will only load the architecture and not the weights\n",
    "\n",
    "new_model = keras.models.load_model('traffic_signs_model_initial')\n",
    "new_model.evaluate(test_images_P, test_labels, verbose=2)\n",
    "'''"
   ]
  }
 ],
 "metadata": {
  "kernelspec": {
   "display_name": "tf-gpu",
   "language": "python",
   "name": "python3"
  },
  "language_info": {
   "codemirror_mode": {
    "name": "ipython",
    "version": 3
   },
   "file_extension": ".py",
   "mimetype": "text/x-python",
   "name": "python",
   "nbconvert_exporter": "python",
   "pygments_lexer": "ipython3",
   "version": "3.9.16"
  },
  "orig_nbformat": 4
 },
 "nbformat": 4,
 "nbformat_minor": 2
}
