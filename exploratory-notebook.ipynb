{
 "cells": [
  {
   "attachments": {},
   "cell_type": "markdown",
   "metadata": {},
   "source": [
    "# Recognizing Traffic Signs\n",
    "The goal of this project is to build a model capable of determining the type of traffic sign that is displayed in an image captured under different real-life conditions and showing obstructions, poor lighting, or even the sign being far away from the camera. We provide you with labeled images already splited in three files (tran/val/test) and a predefined list of signs to recognise. "
   ]
  },
  {
   "cell_type": "code",
   "execution_count": 1,
   "metadata": {},
   "outputs": [],
   "source": [
    "# # Download and unzip\n",
    "# dataroot = \"dataroot/\"\n",
    "# !mkdir dataroot \n",
    "# !wget -P dataroot https://raw.githubusercontent.com/emmanueliarussi/DataScienceCapstone/master/3_MidtermProjects/ProjectRTS/data/data_1.zip\n",
    "# !wget -P dataroot https://raw.githubusercontent.com/emmanueliarussi/DataScienceCapstone/master/3_MidtermProjects/ProjectRTS/data/data_2.zip\n",
    "# !wget -P dataroot https://raw.githubusercontent.com/emmanueliarussi/DataScienceCapstone/master/3_MidtermProjects/ProjectRTS/data/data_3.zip "
   ]
  },
  {
   "cell_type": "code",
   "execution_count": 2,
   "metadata": {},
   "outputs": [
    {
     "data": {
      "text/plain": [
       "'\\n# Unzip\\nimport zipfile\\nwith zipfile.ZipFile(dataroot+\"data_1.zip\",\"r\") as zip_ref:\\n    zip_ref.extractall(dataroot)\\nwith zipfile.ZipFile(dataroot+\"data_2.zip\",\"r\") as zip_ref:\\n    zip_ref.extractall(dataroot)\\nwith zipfile.ZipFile(dataroot+\"data_3.zip\",\"r\") as zip_ref:\\n    zip_ref.extractall(dataroot)\\n'"
      ]
     },
     "execution_count": 2,
     "metadata": {},
     "output_type": "execute_result"
    }
   ],
   "source": [
    "# only need to do once\n",
    "'''\n",
    "# Unzip\n",
    "import zipfile\n",
    "with zipfile.ZipFile(dataroot+\"data_1.zip\",\"r\") as zip_ref:\n",
    "    zip_ref.extractall(dataroot)\n",
    "with zipfile.ZipFile(dataroot+\"data_2.zip\",\"r\") as zip_ref:\n",
    "    zip_ref.extractall(dataroot)\n",
    "with zipfile.ZipFile(dataroot+\"data_3.zip\",\"r\") as zip_ref:\n",
    "    zip_ref.extractall(dataroot)\n",
    "'''"
   ]
  },
  {
   "cell_type": "code",
   "execution_count": 3,
   "metadata": {},
   "outputs": [
    {
     "data": {
      "text/plain": [
       "{0: 'Speed limit (20km/h)',\n",
       " 1: 'Speed limit (30km/h)',\n",
       " 2: 'Speed limit (50km/h)',\n",
       " 3: 'Speed limit (60km/h)',\n",
       " 4: 'Speed limit (70km/h)',\n",
       " 5: 'Speed limit (80km/h)',\n",
       " 6: 'End of speed limit (80km/h)',\n",
       " 7: 'Speed limit (100km/h)',\n",
       " 8: 'Speed limit (120km/h)',\n",
       " 9: 'No passing',\n",
       " 10: 'No passing for vehicles over 3.5 metric tons',\n",
       " 11: 'Right-of-way at the next intersection',\n",
       " 12: 'Priority road',\n",
       " 13: 'Yield',\n",
       " 14: 'Stop',\n",
       " 15: 'No vehicles',\n",
       " 16: 'Vehicles over 3.5 metric tons prohibited',\n",
       " 17: 'No entry',\n",
       " 18: 'General caution',\n",
       " 19: 'Dangerous curve to the left',\n",
       " 20: 'Dangerous curve to the right',\n",
       " 21: 'Double curve',\n",
       " 22: 'Bumpy road',\n",
       " 23: 'Slippery road',\n",
       " 24: 'Road narrows on the right',\n",
       " 25: 'Road work',\n",
       " 26: 'Traffic signals',\n",
       " 27: 'Pedestrians',\n",
       " 28: 'Children crossing',\n",
       " 29: 'Bicycles crossing',\n",
       " 30: 'Beware of ice/snow',\n",
       " 31: 'Wild animals crossing',\n",
       " 32: 'End of all speed and passing limits',\n",
       " 33: 'Turn right ahead',\n",
       " 34: 'Turn left ahead',\n",
       " 35: 'Ahead only',\n",
       " 36: 'Go straight or right',\n",
       " 37: 'Go straight or left',\n",
       " 38: 'Keep right',\n",
       " 39: 'Keep left',\n",
       " 40: 'Roundabout mandatory',\n",
       " 41: 'End of no passing',\n",
       " 42: 'End of no passing by vehicles over 3.5 metric tons'}"
      ]
     },
     "execution_count": 3,
     "metadata": {},
     "output_type": "execute_result"
    }
   ],
   "source": [
    "# Load sign names\n",
    "import pandas as pd\n",
    "df = pd.read_csv(\"https://raw.githubusercontent.com/emmanueliarussi/DataScienceCapstone/master/3_MidtermProjects/ProjectRTS/data/signnames.csv\")\n",
    "signnames = pd.Series(df.SignName.values,index=df.ClassId).to_dict()\n",
    "signnames"
   ]
  },
  {
   "attachments": {},
   "cell_type": "markdown",
   "metadata": {},
   "source": [
    "A P file is a pickle file created by pickle, a Python module used for converting Python objects to a byte reprentation for storage on a disk or trasfer over a network. It allows to be conveniently stored and transmitted without first having to convert the data to another format. P files can be \"unpickled\" and loaded back into a program memory during run time."
   ]
  },
  {
   "cell_type": "code",
   "execution_count": 4,
   "metadata": {},
   "outputs": [],
   "source": [
    "# Load images\n",
    "import pickle\n",
    "dataroot = 'dataroot/'\n",
    "signimages = pickle.load(open( dataroot+\"train.p\", \"rb\" ))"
   ]
  },
  {
   "cell_type": "code",
   "execution_count": 5,
   "metadata": {},
   "outputs": [],
   "source": [
    "train_images = signimages\n",
    "validation_images = pickle.load(open(dataroot+\"valid.p\", \"rb\"))\n",
    "testing_images = pickle.load(open(dataroot+\"test.p\", \"rb\"))"
   ]
  },
  {
   "cell_type": "code",
   "execution_count": 6,
   "metadata": {},
   "outputs": [
    {
     "data": {
      "text/plain": [
       "dict_keys(['coords', 'labels', 'features', 'sizes'])"
      ]
     },
     "execution_count": 6,
     "metadata": {},
     "output_type": "execute_result"
    }
   ],
   "source": [
    "signimages.keys()"
   ]
  },
  {
   "attachments": {},
   "cell_type": "markdown",
   "metadata": {},
   "source": [
    "The dict_keys are `coords`, `labels`, `features`, and `sizes`. \n",
    "* `coords`: This is the coordinates of the traffic signs in the images. It can be used to perform tasks like object localization or bounding box detection but it is not used in this project.\n",
    "* `labels`: This contains the labels associated with each image. This is what we will be using for model training and evaluation.\n",
    "* `features`: This is a 4D array containing the actual image data. Images are represented as arrays of pixel values. This key is what we will be using for image analysis and model training.\n",
    "* `sizes`: This is a 2D array containing the original width and height of each image."
   ]
  },
  {
   "cell_type": "code",
   "execution_count": 7,
   "metadata": {},
   "outputs": [
    {
     "name": "stdout",
     "output_type": "stream",
     "text": [
      "The shape of features:  (34799, 32, 32, 3)\n",
      "The shape of labels:  (34799,)\n",
      "The shape of coordinates:  (34799, 4)\n",
      "The shape of sizes:  (34799, 2)\n"
     ]
    }
   ],
   "source": [
    "print(\"The shape of features: \", signimages['features'].shape)\n",
    "print(\"The shape of labels: \", signimages['labels'].shape)\n",
    "print(\"The shape of coordinates: \", signimages['coords'].shape)\n",
    "print(\"The shape of sizes: \", signimages['sizes'].shape)"
   ]
  },
  {
   "cell_type": "code",
   "execution_count": 8,
   "metadata": {},
   "outputs": [
    {
     "name": "stdout",
     "output_type": "stream",
     "text": [
      "Number of records:  34799\n"
     ]
    }
   ],
   "source": [
    "num_records = len(signimages['features'])\n",
    "print(\"Number of records: \", num_records)"
   ]
  },
  {
   "cell_type": "code",
   "execution_count": 9,
   "metadata": {},
   "outputs": [
    {
     "name": "stdout",
     "output_type": "stream",
     "text": [
      "Image data shape = (32, 32, 3)\n"
     ]
    }
   ],
   "source": [
    "image_shape = signimages['features'][0].shape\n",
    "print(\"Image data shape =\", image_shape)"
   ]
  },
  {
   "cell_type": "code",
   "execution_count": 10,
   "metadata": {},
   "outputs": [
    {
     "ename": "NameError",
     "evalue": "name 'inx' is not defined",
     "output_type": "error",
     "traceback": [
      "\u001b[0;31m---------------------------------------------------------------------------\u001b[0m",
      "\u001b[0;31mNameError\u001b[0m                                 Traceback (most recent call last)",
      "Cell \u001b[0;32mIn[10], line 8\u001b[0m\n\u001b[1;32m      6\u001b[0m image_index \u001b[39m=\u001b[39m \u001b[39m20123\u001b[39m\n\u001b[1;32m      7\u001b[0m plt\u001b[39m.\u001b[39mimshow(signimages[\u001b[39m'\u001b[39m\u001b[39mfeatures\u001b[39m\u001b[39m'\u001b[39m][image_index])\n\u001b[0;32m----> 8\u001b[0m \u001b[39mprint\u001b[39m(\u001b[39m\"\u001b[39m\u001b[39mThe image shows a \u001b[39m\u001b[39m{}\u001b[39;00m\u001b[39m sign\u001b[39m\u001b[39m\"\u001b[39m\u001b[39m.\u001b[39mformat(signnames[signimages[\u001b[39m'\u001b[39m\u001b[39mlabels\u001b[39m\u001b[39m'\u001b[39m][inx]]))\n",
      "\u001b[0;31mNameError\u001b[0m: name 'inx' is not defined"
     ]
    },
    {
     "data": {
      "image/png": "[encoded data removed]",
      "text/plain": [
       "<Figure size 640x480 with 1 Axes>"
      ]
     },
     "metadata": {},
     "output_type": "display_data"
    }
   ],
   "source": [
    "# Preview image\n",
    "import matplotlib.pyplot as plt\n",
    "import numpy as np\n",
    "import cv2\n",
    "\n",
    "image_index = 20123\n",
    "plt.imshow(signimages['features'][image_index])\n",
    "print(\"The image shows a {} sign\".format(signnames[signimages['labels'][inx]]))"
   ]
  },
  {
   "attachments": {},
   "cell_type": "markdown",
   "metadata": {},
   "source": [
    "We can plot a histogram of pixel intesities for the sample image.\n",
    "* `image.ravel()` : the ravel function flattens the 2d image into a 1d array.\n",
    "* `bins=256` : the histogram will have 256 bins, one for each pixel intensity value."
   ]
  },
  {
   "cell_type": "code",
   "execution_count": null,
   "metadata": {},
   "outputs": [],
   "source": [
    "image = signimages['features'][image_index]\n",
    "plt.hist(image.ravel(), bins=256, color='gray', alpha=0.7)\n",
    "plt.xlabel('Pixel Intensity')\n",
    "plt.ylabel('Frequency')\n",
    "plt.title(\"Pixel intensity distribution\")\n",
    "plt.show()"
   ]
  },
  {
   "attachments": {},
   "cell_type": "markdown",
   "metadata": {},
   "source": [
    "* We can take a sample of different sign types (maybe a few 2-3) look at the image and then plot the pixel intensity to see if we can infer what the sign is from the pixel intensity."
   ]
  },
  {
   "cell_type": "code",
   "execution_count": null,
   "metadata": {},
   "outputs": [],
   "source": [
    "label_counts = pd.Series(signimages['labels']).value_counts().sort_index()\n",
    "plt.bar(label_counts.index, label_counts.values)\n",
    "plt.xlabel('Class ID')\n",
    "plt.ylabel('Frequency')\n",
    "plt.title(\"Class Distribution\")\n",
    "plt.show()"
   ]
  },
  {
   "cell_type": "code",
   "execution_count": null,
   "metadata": {},
   "outputs": [],
   "source": [
    "train_unique_index = np.unique(signimages['labels'], return_index=True)[1]\n",
    "rows = len(train_unique_index)//4 + 1\n",
    "f = plt.figure(figsize=(20,16))\n",
    "for i, index in enumerate(train_unique_index, 1):\n",
    "    plt.subplot(rows, 4, i)\n",
    "    plt.imshow(signimages['features'][index-1])\n",
    "    plt.axis('off')\n",
    "    plt.title([index-1]])"
   ]
  }
 ],
 "metadata": {
  "kernelspec": {
   "display_name": "Python 3",
   "language": "python",
   "name": "python3"
  },
  "language_info": {
   "codemirror_mode": {
    "name": "ipython",
    "version": 3
   },
   "file_extension": ".py",
   "mimetype": "text/x-python",
   "name": "python",
   "nbconvert_exporter": "python",
   "pygments_lexer": "ipython3",
   "version": "3.9.16"
  }
 },
 "nbformat": 4,
 "nbformat_minor": 2
}
